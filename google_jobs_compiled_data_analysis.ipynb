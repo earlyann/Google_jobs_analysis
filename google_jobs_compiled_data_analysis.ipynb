{
 "cells": [
  {
   "cell_type": "code",
   "execution_count": 65,
   "metadata": {},
   "outputs": [],
   "source": [
    "import os\n",
    "import pandas as pd\n"
   ]
  },
  {
   "cell_type": "code",
   "execution_count": 83,
   "metadata": {},
   "outputs": [],
   "source": [
    "\n",
    "# Set the path of the directory that contains the CSV files\n",
    "directory = '/Users/laceymorgan/Desktop/data_job_analysis/'\n",
    "\n",
    "# Get a list of all CSV files in the directory\n",
    "csv_files = [os.path.join(directory, file) for file in os.listdir(directory) if file.endswith('.csv')]\n",
    "\n",
    "# Create an empty DataFrame to store the concatenated data\n",
    "df = pd.DataFrame()\n",
    "\n",
    "# Loop through each CSV file and concatenate the data\n",
    "for file in csv_files:\n",
    "    data = pd.read_csv(file)\n",
    "    df = pd.concat([df, data], ignore_index=True)\n"
   ]
  },
  {
   "cell_type": "code",
   "execution_count": 89,
   "metadata": {},
   "outputs": [
    {
     "data": {
      "text/html": [
       "<div>\n",
       "<style scoped>\n",
       "    .dataframe tbody tr th:only-of-type {\n",
       "        vertical-align: middle;\n",
       "    }\n",
       "\n",
       "    .dataframe tbody tr th {\n",
       "        vertical-align: top;\n",
       "    }\n",
       "\n",
       "    .dataframe thead th {\n",
       "        text-align: right;\n",
       "    }\n",
       "</style>\n",
       "<table border=\"1\" class=\"dataframe\">\n",
       "  <thead>\n",
       "    <tr style=\"text-align: right;\">\n",
       "      <th></th>\n",
       "      <th>job_title</th>\n",
       "      <th>company_name</th>\n",
       "      <th>job_description</th>\n",
       "      <th>via</th>\n",
       "      <th>job_id</th>\n",
       "      <th>posted_hours_ago</th>\n",
       "      <th>report_run_datetime</th>\n",
       "      <th>apply_options</th>\n",
       "      <th>rating</th>\n",
       "      <th>#_of_reviews</th>\n",
       "      <th>...</th>\n",
       "      <th>salary_from</th>\n",
       "      <th>salary_to</th>\n",
       "      <th>salary_source</th>\n",
       "      <th>my_keywords</th>\n",
       "      <th>job_description_summary</th>\n",
       "      <th>sentiment_score</th>\n",
       "      <th>salary_mention</th>\n",
       "      <th>named_entity_recognition</th>\n",
       "      <th>job_id.1</th>\n",
       "      <th>Unnamed: 0</th>\n",
       "    </tr>\n",
       "  </thead>\n",
       "  <tbody>\n",
       "    <tr>\n",
       "      <th>0</th>\n",
       "      <td>Program Operations Management Analyst</td>\n",
       "      <td>Google</td>\n",
       "      <td>Minimum qualifications:\\n• Bachelor's degree o...</td>\n",
       "      <td>via Girlboss Jobs</td>\n",
       "      <td>eyJqb2JfdGl0bGUiOiJQcm9ncmFtIE9wZXJhdGlvbnMgTW...</td>\n",
       "      <td>0</td>\n",
       "      <td>2023-02-21 06:39:38</td>\n",
       "      <td>https://jobs.girlboss.com/program-operations-m...</td>\n",
       "      <td>4.5</td>\n",
       "      <td>40353.0</td>\n",
       "      <td>...</td>\n",
       "      <td>82000.0</td>\n",
       "      <td>130000.0</td>\n",
       "      <td>Salary.com</td>\n",
       "      <td>visualization sql tableau</td>\n",
       "      <td>• Knowledge of SQL and data visualization tool...</td>\n",
       "      <td>0.9965</td>\n",
       "      <td>['range', 'between', '$109,000', '-', '$117,00...</td>\n",
       "      <td>(S\\n  (GPE Minimum/JJ)\\n  qualifications/NNS\\n...</td>\n",
       "      <td>NaN</td>\n",
       "      <td>NaN</td>\n",
       "    </tr>\n",
       "    <tr>\n",
       "      <th>1</th>\n",
       "      <td>Data Center Operations Analyst</td>\n",
       "      <td>Adobe</td>\n",
       "      <td>Our Company\\n\\nChanging the world through digi...</td>\n",
       "      <td>via Adobe - Talentify</td>\n",
       "      <td>eyJqb2JfdGl0bGUiOiJEYXRhIENlbnRlciBPcGVyYXRpb2...</td>\n",
       "      <td>0</td>\n",
       "      <td>2023-02-21 06:39:38</td>\n",
       "      <td>https://adobe.talentify.io/job/data-center-ope...</td>\n",
       "      <td>4.4</td>\n",
       "      <td>8412.0</td>\n",
       "      <td>...</td>\n",
       "      <td>NaN</td>\n",
       "      <td>NaN</td>\n",
       "      <td>NaN</td>\n",
       "      <td>NaN</td>\n",
       "      <td>Changing the world through digital experiences...</td>\n",
       "      <td>0.9977</td>\n",
       "      <td>['range', 'for', 'the', 'job', 'location', 'du...</td>\n",
       "      <td>(S\\n  Our/PRP$\\n  Company/NN\\n  Changing/VBG\\n...</td>\n",
       "      <td>NaN</td>\n",
       "      <td>NaN</td>\n",
       "    </tr>\n",
       "    <tr>\n",
       "      <th>2</th>\n",
       "      <td>Business Operations Analyst</td>\n",
       "      <td>Juniper Networks</td>\n",
       "      <td>Job Title: Business Analyst - Global Service O...</td>\n",
       "      <td>via Salary.com</td>\n",
       "      <td>eyJqb2JfdGl0bGUiOiJCdXNpbmVzcyBPcGVyYXRpb25zIE...</td>\n",
       "      <td>0</td>\n",
       "      <td>2023-02-21 06:39:38</td>\n",
       "      <td>https://www.salary.com/job/juniper-networks/bu...</td>\n",
       "      <td>4.3</td>\n",
       "      <td>3943.0</td>\n",
       "      <td>...</td>\n",
       "      <td>76000.0</td>\n",
       "      <td>120000.0</td>\n",
       "      <td>Indeed</td>\n",
       "      <td>NaN</td>\n",
       "      <td>Responsibilities... The primary responsibility...</td>\n",
       "      <td>0.9741</td>\n",
       "      <td>salary not mentioned</td>\n",
       "      <td>(S\\n  (PERSON Job/NNP)\\n  Title/NNP\\n  :/:\\n  ...</td>\n",
       "      <td>NaN</td>\n",
       "      <td>NaN</td>\n",
       "    </tr>\n",
       "    <tr>\n",
       "      <th>3</th>\n",
       "      <td>Marketing Campaign Operations Analyst</td>\n",
       "      <td>Aquent</td>\n",
       "      <td>The Marketing Analytics team is looking for a ...</td>\n",
       "      <td>via Aquent Talent</td>\n",
       "      <td>eyJqb2JfdGl0bGUiOiJNYXJrZXRpbmcgQ2FtcGFpZ24gT3...</td>\n",
       "      <td>0</td>\n",
       "      <td>2023-02-21 06:39:38</td>\n",
       "      <td>https://aquenttalent.com/talent/jobs/181552?re...</td>\n",
       "      <td>4.2</td>\n",
       "      <td>940.0</td>\n",
       "      <td>...</td>\n",
       "      <td>NaN</td>\n",
       "      <td>NaN</td>\n",
       "      <td>NaN</td>\n",
       "      <td>sql</td>\n",
       "      <td>The Marketing Analytics team is looking for a ...</td>\n",
       "      <td>0.9979</td>\n",
       "      <td>salary not mentioned</td>\n",
       "      <td>(S\\n  The/DT\\n  Marketing/NNP\\n  Analytics/NNP...</td>\n",
       "      <td>NaN</td>\n",
       "      <td>NaN</td>\n",
       "    </tr>\n",
       "    <tr>\n",
       "      <th>4</th>\n",
       "      <td>Data Scientist (All Levels)</td>\n",
       "      <td>Noblis</td>\n",
       "      <td>Responsibilities\\n\\nNoblis is seeking to hire ...</td>\n",
       "      <td>via Noblis - Careers - ICIMS</td>\n",
       "      <td>eyJqb2JfdGl0bGUiOiJEYXRhIFNjaWVudGlzdCAoQWxsIE...</td>\n",
       "      <td>0</td>\n",
       "      <td>2023-02-21 06:47:47</td>\n",
       "      <td>https://jobs-noblis.icims.com/jobs/21177/data-...</td>\n",
       "      <td>4.0</td>\n",
       "      <td>66.0</td>\n",
       "      <td>...</td>\n",
       "      <td>NaN</td>\n",
       "      <td>NaN</td>\n",
       "      <td>NaN</td>\n",
       "      <td>python</td>\n",
       "      <td>As a Data Scientist with our team, you will be...</td>\n",
       "      <td>0.9990</td>\n",
       "      <td>['at', 'Noblis', 'is', 'determined', 'by', 'va...</td>\n",
       "      <td>(S\\n  Responsibilities/NNS\\n  (PERSON Noblis/N...</td>\n",
       "      <td>NaN</td>\n",
       "      <td>NaN</td>\n",
       "    </tr>\n",
       "  </tbody>\n",
       "</table>\n",
       "<p>5 rows × 22 columns</p>\n",
       "</div>"
      ],
      "text/plain": [
       "                               job_title      company_name  \\\n",
       "0  Program Operations Management Analyst            Google   \n",
       "1         Data Center Operations Analyst             Adobe   \n",
       "2            Business Operations Analyst  Juniper Networks   \n",
       "3  Marketing Campaign Operations Analyst            Aquent   \n",
       "4            Data Scientist (All Levels)            Noblis   \n",
       "\n",
       "                                     job_description  \\\n",
       "0  Minimum qualifications:\\n• Bachelor's degree o...   \n",
       "1  Our Company\\n\\nChanging the world through digi...   \n",
       "2  Job Title: Business Analyst - Global Service O...   \n",
       "3  The Marketing Analytics team is looking for a ...   \n",
       "4  Responsibilities\\n\\nNoblis is seeking to hire ...   \n",
       "\n",
       "                            via  \\\n",
       "0             via Girlboss Jobs   \n",
       "1         via Adobe - Talentify   \n",
       "2                via Salary.com   \n",
       "3             via Aquent Talent   \n",
       "4  via Noblis - Careers - ICIMS   \n",
       "\n",
       "                                              job_id  posted_hours_ago  \\\n",
       "0  eyJqb2JfdGl0bGUiOiJQcm9ncmFtIE9wZXJhdGlvbnMgTW...                 0   \n",
       "1  eyJqb2JfdGl0bGUiOiJEYXRhIENlbnRlciBPcGVyYXRpb2...                 0   \n",
       "2  eyJqb2JfdGl0bGUiOiJCdXNpbmVzcyBPcGVyYXRpb25zIE...                 0   \n",
       "3  eyJqb2JfdGl0bGUiOiJNYXJrZXRpbmcgQ2FtcGFpZ24gT3...                 0   \n",
       "4  eyJqb2JfdGl0bGUiOiJEYXRhIFNjaWVudGlzdCAoQWxsIE...                 0   \n",
       "\n",
       "   report_run_datetime                                      apply_options  \\\n",
       "0  2023-02-21 06:39:38  https://jobs.girlboss.com/program-operations-m...   \n",
       "1  2023-02-21 06:39:38  https://adobe.talentify.io/job/data-center-ope...   \n",
       "2  2023-02-21 06:39:38  https://www.salary.com/job/juniper-networks/bu...   \n",
       "3  2023-02-21 06:39:38  https://aquenttalent.com/talent/jobs/181552?re...   \n",
       "4  2023-02-21 06:47:47  https://jobs-noblis.icims.com/jobs/21177/data-...   \n",
       "\n",
       "   rating  #_of_reviews  ... salary_from salary_to  salary_source  \\\n",
       "0     4.5       40353.0  ...     82000.0  130000.0     Salary.com   \n",
       "1     4.4        8412.0  ...         NaN       NaN            NaN   \n",
       "2     4.3        3943.0  ...     76000.0  120000.0         Indeed   \n",
       "3     4.2         940.0  ...         NaN       NaN            NaN   \n",
       "4     4.0          66.0  ...         NaN       NaN            NaN   \n",
       "\n",
       "                 my_keywords  \\\n",
       "0  visualization sql tableau   \n",
       "1                        NaN   \n",
       "2                        NaN   \n",
       "3                        sql   \n",
       "4                     python   \n",
       "\n",
       "                             job_description_summary sentiment_score  \\\n",
       "0  • Knowledge of SQL and data visualization tool...          0.9965   \n",
       "1  Changing the world through digital experiences...          0.9977   \n",
       "2  Responsibilities... The primary responsibility...          0.9741   \n",
       "3  The Marketing Analytics team is looking for a ...          0.9979   \n",
       "4  As a Data Scientist with our team, you will be...          0.9990   \n",
       "\n",
       "                                      salary_mention  \\\n",
       "0  ['range', 'between', '$109,000', '-', '$117,00...   \n",
       "1  ['range', 'for', 'the', 'job', 'location', 'du...   \n",
       "2                               salary not mentioned   \n",
       "3                               salary not mentioned   \n",
       "4  ['at', 'Noblis', 'is', 'determined', 'by', 'va...   \n",
       "\n",
       "                            named_entity_recognition job_id.1 Unnamed: 0  \n",
       "0  (S\\n  (GPE Minimum/JJ)\\n  qualifications/NNS\\n...      NaN        NaN  \n",
       "1  (S\\n  Our/PRP$\\n  Company/NN\\n  Changing/VBG\\n...      NaN        NaN  \n",
       "2  (S\\n  (PERSON Job/NNP)\\n  Title/NNP\\n  :/:\\n  ...      NaN        NaN  \n",
       "3  (S\\n  The/DT\\n  Marketing/NNP\\n  Analytics/NNP...      NaN        NaN  \n",
       "4  (S\\n  Responsibilities/NNS\\n  (PERSON Noblis/N...      NaN        NaN  \n",
       "\n",
       "[5 rows x 22 columns]"
      ]
     },
     "execution_count": 89,
     "metadata": {},
     "output_type": "execute_result"
    }
   ],
   "source": [
    "\n",
    "df.head()"
   ]
  },
  {
   "cell_type": "code",
   "execution_count": 90,
   "metadata": {},
   "outputs": [],
   "source": [
    "# Dropping the duplicate job_id column\n",
    "df = df.drop(columns='job_id.1')\n"
   ]
  },
  {
   "cell_type": "code",
   "execution_count": 91,
   "metadata": {},
   "outputs": [],
   "source": [
    "# Dropping the duplicate job_id column\n",
    "df = df.drop(columns='Unnamed: 0')"
   ]
  },
  {
   "cell_type": "code",
   "execution_count": 92,
   "metadata": {},
   "outputs": [
    {
     "data": {
      "text/plain": [
       "job_title                   1000\n",
       "company_name                1000\n",
       "job_description             1000\n",
       "via                         1000\n",
       "job_id                      1000\n",
       "posted_hours_ago            1000\n",
       "report_run_datetime         1000\n",
       "apply_options               1000\n",
       "rating                       607\n",
       "#_of_reviews                 607\n",
       "rating_source                607\n",
       "salary_based_on              417\n",
       "salary_from                  417\n",
       "salary_to                    410\n",
       "salary_source                417\n",
       "my_keywords                  473\n",
       "job_description_summary      880\n",
       "sentiment_score              880\n",
       "salary_mention               880\n",
       "named_entity_recognition     880\n",
       "dtype: int64"
      ]
     },
     "execution_count": 92,
     "metadata": {},
     "output_type": "execute_result"
    }
   ],
   "source": [
    "df.count()"
   ]
  },
  {
   "cell_type": "code",
   "execution_count": 101,
   "metadata": {},
   "outputs": [
    {
     "name": "stdout",
     "output_type": "stream",
     "text": [
      "There were 80 job listings that were captured twice or more.\n"
     ]
    }
   ],
   "source": [
    "# Count the number of occurrences of each unique value in the 'job_id' column\n",
    "job_id_counts = df['job_id'].value_counts()\n",
    "\n",
    "# Select only the values that occur twice or more\n",
    "job_id_counts_2 = job_id_counts[job_id_counts >=2]\n",
    "\n",
    "# Get the count of values that occur exactly twice\n",
    "num_jobs_with_2_instances = len(job_id_counts_2)\n",
    "\n",
    "print(f'There were {num_jobs_with_2_instances} job listings that were captured twice or more.')"
   ]
  },
  {
   "cell_type": "code",
   "execution_count": 102,
   "metadata": {},
   "outputs": [],
   "source": [
    "# Remove duplicate rows based on 'job_id'\n",
    "df = df.drop_duplicates(subset=['job_id'])"
   ]
  },
  {
   "cell_type": "code",
   "execution_count": 104,
   "metadata": {},
   "outputs": [
    {
     "name": "stdout",
     "output_type": "stream",
     "text": [
      "The average length of a job description was 4203, the NLTK summarizer brought the average length down to 973.\n",
      "That is a reduction of 77% in length on average.\n"
     ]
    }
   ],
   "source": [
    "# Analyzing how much NLTK summarizer reduced the descriptions\n",
    "\n",
    "df['job_desc_len'] = df['job_description'].str.len()\n",
    "df['job_sum_len'] = df['job_description_summary'].str.len()\n",
    "\n",
    "avg_job_desc_len = round(df['job_desc_len'].mean())\n",
    "avg_job_sum_len = round(df['job_sum_len'].mean())\n",
    "avg_desc_perc_change = round((avg_job_sum_len-avg_job_desc_len)/avg_job_desc_len *-100)\n",
    "\n",
    "print(f'The average length of a job description was {avg_job_desc_len}, the NLTK summarizer brought the average length down to {avg_job_sum_len}.')\n",
    "print(f'That is a reduction of {avg_desc_perc_change}% in length on average.')"
   ]
  },
  {
   "cell_type": "code",
   "execution_count": 105,
   "metadata": {},
   "outputs": [
    {
     "name": "stdout",
     "output_type": "stream",
     "text": [
      "48.0% of listings had keyword matches with a count of: 440\n",
      "52.0% of listings did not have keyword matches with a count of:  480\n"
     ]
    }
   ],
   "source": [
    "# Examining how many listings had hits for my keywords\n",
    "\n",
    "# Count the number of non-NaN values\n",
    "keyword_matches = df['my_keywords'].count()\n",
    "\n",
    "# Count the number of NaN values\n",
    "keyword_nan = df['my_keywords'].isnull().sum()\n",
    "\n",
    "# Print the results\n",
    "print(f'{(round(keyword_matches/len(df),2)*100)}% of listings had keyword matches with a count of: {keyword_matches}')\n",
    "print(f'{(round(keyword_nan/len(df),2)*100)}% of listings did not have keyword matches with a count of:  {keyword_nan}')"
   ]
  },
  {
   "cell_type": "code",
   "execution_count": 116,
   "metadata": {},
   "outputs": [
    {
     "name": "stdout",
     "output_type": "stream",
     "text": [
      "                                     count  percent_of_total\n",
      "job_title                                                   \n",
      "Data Analyst                            92             10.00\n",
      "Operations Analyst                      72              7.83\n",
      "Senior Data Analyst                     30              3.26\n",
      "Revenue Operations Analyst              25              2.72\n",
      "Business Operations Analyst             24              2.61\n",
      "Sales Operations Analyst (Remote)       18              1.96\n",
      "Sr. Data Analyst                        17              1.85\n",
      "Senior Data Analyst (Remote)            14              1.52\n",
      "Sales Operations Analyst                11              1.20\n",
      "Revenue Operations Analyst (Remote)     10              1.09\n"
     ]
    }
   ],
   "source": [
    "# Looking at the the most common job titles\n",
    "\n",
    "top_overall_titles = df.groupby(df['job_title']).count()['job_description'].sort_values(ascending=False)[0:10]\n",
    "# Calculate the percentage of total for each job title\n",
    "total_count = len(df['job_description'])\n",
    "percent_of_total = top_overall_titles.apply(lambda x: (x / total_count) * 100)\n",
    "\n",
    "# Adding the percent of total column to the groupby object\n",
    "top_overall_titles_with_pct = pd.concat([top_overall_titles, percent_of_total], axis=1, keys=['count', 'percent_of_total'])\n",
    "\n",
    "# Round the percent column to two decimal places\n",
    "top_overall_titles_with_pct['percent_of_total'] = top_overall_titles_with_pct['percent_of_total'].round(2)\n",
    "\n",
    "print(top_overall_titles_with_pct)"
   ]
  },
  {
   "cell_type": "code",
   "execution_count": 118,
   "metadata": {},
   "outputs": [
    {
     "name": "stdout",
     "output_type": "stream",
     "text": [
      "                         count  percent_of_total\n",
      "company_name                                    \n",
      "Softheon                    16              1.74\n",
      "Peraton                     16              1.74\n",
      "Rightway                    16              1.74\n",
      "Headway                     12              1.30\n",
      "Robert Half                 11              1.20\n",
      "Humana                      10              1.09\n",
      "Center for Fair Futures     10              1.09\n",
      "Aquent                      10              1.09\n",
      "Aon Corporation             10              1.09\n",
      "Salesforce                   9              0.98\n"
     ]
    }
   ],
   "source": [
    "# Looking at the companies that have the most listings in the dataset\n",
    "\n",
    "top_overall_comps = df.groupby(df['company_name']).count()['job_description'].sort_values(ascending=False)[0:10]\n",
    "# Calculate the percentage of total for each job title\n",
    "total_count = len(df['job_description'])\n",
    "percent_of_total = top_overall_comps.apply(lambda x: (x / total_count) * 100)\n",
    "\n",
    "# Adding the percent of total column to the groupby object\n",
    "top_overall_comps_with_pct = pd.concat([top_overall_comps, percent_of_total], axis=1, keys=['count', 'percent_of_total'])\n",
    "\n",
    "# Round the percent column to two decimal places\n",
    "top_overall_comps_with_pct['percent_of_total'] = top_overall_comps_with_pct['percent_of_total'].round(2)\n",
    "\n",
    "print(top_overall_comps_with_pct)"
   ]
  },
  {
   "cell_type": "code",
   "execution_count": 107,
   "metadata": {},
   "outputs": [
    {
     "name": "stdout",
     "output_type": "stream",
     "text": [
      "21.0% of listings matched as senior roles with a count of: 194\n"
     ]
    },
    {
     "name": "stderr",
     "output_type": "stream",
     "text": [
      "/var/folders/v0/rlrtvnc53g178pfy3_fzt2wm0000gp/T/ipykernel_19434/1640846906.py:5: UserWarning: This pattern is interpreted as a regular expression, and has match groups. To actually get the groups, use str.extract.\n",
      "  df['senior_match'] = df['job_title'].str.lower().str.contains(pattern)\n"
     ]
    }
   ],
   "source": [
    "# Define the pattern to match\n",
    "pattern = r'\\b(senior|sr|sr\\.|lead|manager|sr .)\\b'\n",
    "\n",
    "# Create a new column that returns a boolean indicating whether the my_keywords column matches the pattern\n",
    "df['senior_match'] = df['job_title'].str.lower().str.contains(pattern) \n",
    "\n",
    "# Examining how many listings are for these senior roles\n",
    "\n",
    "# Count the number of True values in the senior_match column\n",
    "num_senior_matches = df['senior_match'].sum()\n",
    "\n",
    "# print(f'Number of senior roles in the dataset: {num_senior_matches}')\n",
    "print(f'{(round(num_senior_matches/len(df),2)*100)}% of listings matched as senior roles with a count of: {num_senior_matches}')\n"
   ]
  },
  {
   "cell_type": "code",
   "execution_count": 108,
   "metadata": {},
   "outputs": [
    {
     "data": {
      "text/plain": [
       "count    800.000000\n",
       "mean       0.978115\n",
       "std        0.130793\n",
       "min       -0.926000\n",
       "25%        0.995775\n",
       "50%        0.998100\n",
       "75%        0.999100\n",
       "max        1.000000\n",
       "Name: sentiment_score, dtype: float64"
      ]
     },
     "execution_count": 108,
     "metadata": {},
     "output_type": "execute_result"
    }
   ],
   "source": [
    "# Overview of the NLTK generated sentiment scores\n",
    "df['sentiment_score'].describe()"
   ]
  },
  {
   "cell_type": "code",
   "execution_count": 119,
   "metadata": {},
   "outputs": [
    {
     "name": "stdout",
     "output_type": "stream",
     "text": [
      "NLTK was able to find the salary mentioned in 44% of listings had with a count of: 406\n"
     ]
    }
   ],
   "source": [
    "# Looking at how many listings NLTK was able to pull salary info from\n",
    "salary_extract = df.loc[df['salary_mention']!='salary not mentioned']\n",
    "len(salary_extract)/len(df) *100\n",
    "\n",
    "# Print the results\n",
    "print(f'NLTK was able to find the salary mentioned in {(round(len(salary_extract)/len(df) *100))}% of listings had with a count of: {len(salary_extract)}')"
   ]
  },
  {
   "cell_type": "code",
   "execution_count": 114,
   "metadata": {},
   "outputs": [
    {
     "data": {
      "text/plain": [
       "count    554.000000\n",
       "mean       3.748195\n",
       "std        0.487758\n",
       "min        1.600000\n",
       "25%        3.500000\n",
       "50%        3.800000\n",
       "75%        4.000000\n",
       "max        5.000000\n",
       "Name: rating, dtype: float64"
      ]
     },
     "execution_count": 114,
     "metadata": {},
     "output_type": "execute_result"
    }
   ],
   "source": [
    "# Overview of the rating information gathered from the google jobs listings endpoint\n",
    "\n",
    "df['rating'].describe()"
   ]
  },
  {
   "cell_type": "code",
   "execution_count": 121,
   "metadata": {},
   "outputs": [
    {
     "name": "stdout",
     "output_type": "stream",
     "text": [
      "Of the 554 company ratings gathered from the Google jobs listings endpoint, only 3 listings were posted by companies that had a perfect 5 rating\n"
     ]
    }
   ],
   "source": [
    "# How many listings were present in the dataset with companies having a perfect 5 rating\n",
    "\n",
    "print(f\"Of the {df['rating'].count()} company ratings gathered from the Google jobs listings endpoint, only {len(df.loc[df['rating'] == 5])} listings were posted by companies that had a perfect 5 rating.\")"
   ]
  },
  {
   "cell_type": "code",
   "execution_count": 122,
   "metadata": {},
   "outputs": [
    {
     "data": {
      "text/html": [
       "<div>\n",
       "<style scoped>\n",
       "    .dataframe tbody tr th:only-of-type {\n",
       "        vertical-align: middle;\n",
       "    }\n",
       "\n",
       "    .dataframe tbody tr th {\n",
       "        vertical-align: top;\n",
       "    }\n",
       "\n",
       "    .dataframe thead th {\n",
       "        text-align: right;\n",
       "    }\n",
       "</style>\n",
       "<table border=\"1\" class=\"dataframe\">\n",
       "  <thead>\n",
       "    <tr style=\"text-align: right;\">\n",
       "      <th></th>\n",
       "      <th>posted_hours_ago</th>\n",
       "      <th>rating</th>\n",
       "      <th>#_of_reviews</th>\n",
       "      <th>salary_from</th>\n",
       "      <th>salary_to</th>\n",
       "      <th>sentiment_score</th>\n",
       "      <th>job_desc_len</th>\n",
       "      <th>job_sum_len</th>\n",
       "    </tr>\n",
       "  </thead>\n",
       "  <tbody>\n",
       "    <tr>\n",
       "      <th>count</th>\n",
       "      <td>920.000000</td>\n",
       "      <td>554.000000</td>\n",
       "      <td>554.000000</td>\n",
       "      <td>381.000000</td>\n",
       "      <td>374.000000</td>\n",
       "      <td>800.000000</td>\n",
       "      <td>920.000000</td>\n",
       "      <td>800.000000</td>\n",
       "    </tr>\n",
       "    <tr>\n",
       "      <th>mean</th>\n",
       "      <td>134.890217</td>\n",
       "      <td>3.748195</td>\n",
       "      <td>3770.628159</td>\n",
       "      <td>57218.091864</td>\n",
       "      <td>109575.216578</td>\n",
       "      <td>0.978115</td>\n",
       "      <td>4203.078261</td>\n",
       "      <td>972.877500</td>\n",
       "    </tr>\n",
       "    <tr>\n",
       "      <th>std</th>\n",
       "      <td>198.554647</td>\n",
       "      <td>0.487758</td>\n",
       "      <td>8263.185544</td>\n",
       "      <td>19546.858559</td>\n",
       "      <td>35274.439172</td>\n",
       "      <td>0.130793</td>\n",
       "      <td>1945.960829</td>\n",
       "      <td>525.135575</td>\n",
       "    </tr>\n",
       "    <tr>\n",
       "      <th>min</th>\n",
       "      <td>0.000000</td>\n",
       "      <td>1.600000</td>\n",
       "      <td>1.000000</td>\n",
       "      <td>11.000000</td>\n",
       "      <td>23.000000</td>\n",
       "      <td>-0.926000</td>\n",
       "      <td>153.000000</td>\n",
       "      <td>152.000000</td>\n",
       "    </tr>\n",
       "    <tr>\n",
       "      <th>25%</th>\n",
       "      <td>0.000000</td>\n",
       "      <td>3.500000</td>\n",
       "      <td>144.000000</td>\n",
       "      <td>46000.000000</td>\n",
       "      <td>91000.000000</td>\n",
       "      <td>0.995775</td>\n",
       "      <td>2812.000000</td>\n",
       "      <td>625.000000</td>\n",
       "    </tr>\n",
       "    <tr>\n",
       "      <th>50%</th>\n",
       "      <td>48.000000</td>\n",
       "      <td>3.800000</td>\n",
       "      <td>553.000000</td>\n",
       "      <td>52000.000000</td>\n",
       "      <td>100000.000000</td>\n",
       "      <td>0.998100</td>\n",
       "      <td>4162.500000</td>\n",
       "      <td>822.500000</td>\n",
       "    </tr>\n",
       "    <tr>\n",
       "      <th>75%</th>\n",
       "      <td>144.000000</td>\n",
       "      <td>4.000000</td>\n",
       "      <td>3943.000000</td>\n",
       "      <td>66000.000000</td>\n",
       "      <td>120000.000000</td>\n",
       "      <td>0.999100</td>\n",
       "      <td>5355.000000</td>\n",
       "      <td>1192.000000</td>\n",
       "    </tr>\n",
       "    <tr>\n",
       "      <th>max</th>\n",
       "      <td>720.000000</td>\n",
       "      <td>5.000000</td>\n",
       "      <td>65103.000000</td>\n",
       "      <td>180000.000000</td>\n",
       "      <td>300000.000000</td>\n",
       "      <td>1.000000</td>\n",
       "      <td>15591.000000</td>\n",
       "      <td>3374.000000</td>\n",
       "    </tr>\n",
       "  </tbody>\n",
       "</table>\n",
       "</div>"
      ],
      "text/plain": [
       "       posted_hours_ago      rating  #_of_reviews    salary_from  \\\n",
       "count        920.000000  554.000000    554.000000     381.000000   \n",
       "mean         134.890217    3.748195   3770.628159   57218.091864   \n",
       "std          198.554647    0.487758   8263.185544   19546.858559   \n",
       "min            0.000000    1.600000      1.000000      11.000000   \n",
       "25%            0.000000    3.500000    144.000000   46000.000000   \n",
       "50%           48.000000    3.800000    553.000000   52000.000000   \n",
       "75%          144.000000    4.000000   3943.000000   66000.000000   \n",
       "max          720.000000    5.000000  65103.000000  180000.000000   \n",
       "\n",
       "           salary_to  sentiment_score  job_desc_len  job_sum_len  \n",
       "count     374.000000       800.000000    920.000000   800.000000  \n",
       "mean   109575.216578         0.978115   4203.078261   972.877500  \n",
       "std     35274.439172         0.130793   1945.960829   525.135575  \n",
       "min        23.000000        -0.926000    153.000000   152.000000  \n",
       "25%     91000.000000         0.995775   2812.000000   625.000000  \n",
       "50%    100000.000000         0.998100   4162.500000   822.500000  \n",
       "75%    120000.000000         0.999100   5355.000000  1192.000000  \n",
       "max    300000.000000         1.000000  15591.000000  3374.000000  "
      ]
     },
     "execution_count": 122,
     "metadata": {},
     "output_type": "execute_result"
    }
   ],
   "source": [
    "df.describe()"
   ]
  },
  {
   "cell_type": "code",
   "execution_count": null,
   "metadata": {},
   "outputs": [],
   "source": []
  }
 ],
 "metadata": {
  "kernelspec": {
   "display_name": "PythonData",
   "language": "python",
   "name": "pythondata"
  },
  "language_info": {
   "codemirror_mode": {
    "name": "ipython",
    "version": 3
   },
   "file_extension": ".py",
   "mimetype": "text/x-python",
   "name": "python",
   "nbconvert_exporter": "python",
   "pygments_lexer": "ipython3",
   "version": "3.9.13"
  },
  "orig_nbformat": 4,
  "vscode": {
   "interpreter": {
    "hash": "31f2aee4e71d21fbe5cf8b01ff0e069b9275f58929596ceb00d14d90e3e16cd6"
   }
  }
 },
 "nbformat": 4,
 "nbformat_minor": 2
}
