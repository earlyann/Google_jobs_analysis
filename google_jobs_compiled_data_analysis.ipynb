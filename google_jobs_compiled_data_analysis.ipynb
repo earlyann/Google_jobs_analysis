{
 "cells": [
  {
   "cell_type": "code",
   "execution_count": 98,
   "metadata": {},
   "outputs": [],
   "source": [
    "import os\n",
    "import pandas as pd\n",
    "import matplotlib.pyplot as plt\n",
    "from matplotlib.ticker import FuncFormatter, FixedLocator, MultipleLocator\n",
    "import re"
   ]
  },
  {
   "cell_type": "code",
   "execution_count": 37,
   "metadata": {},
   "outputs": [],
   "source": [
    "\n",
    "# Set the path of the directory that contains the CSV files\n",
    "directory = '/Users/laceymorgan/Desktop/data_job_analysis/'\n",
    "\n",
    "# Get a list of all CSV files in the directory\n",
    "csv_files = [os.path.join(directory, file) for file in os.listdir(directory) if file.endswith('.csv')]\n",
    "\n",
    "# Create an empty DataFrame to store the concatenated data\n",
    "df = pd.DataFrame()\n",
    "\n",
    "# Loop through each CSV file and concatenate the data\n",
    "for file in csv_files:\n",
    "    data = pd.read_csv(file)\n",
    "    df = pd.concat([df, data], ignore_index=True)\n"
   ]
  },
  {
   "cell_type": "code",
   "execution_count": 38,
   "metadata": {},
   "outputs": [
    {
     "data": {
      "text/html": [
       "<div>\n",
       "<style scoped>\n",
       "    .dataframe tbody tr th:only-of-type {\n",
       "        vertical-align: middle;\n",
       "    }\n",
       "\n",
       "    .dataframe tbody tr th {\n",
       "        vertical-align: top;\n",
       "    }\n",
       "\n",
       "    .dataframe thead th {\n",
       "        text-align: right;\n",
       "    }\n",
       "</style>\n",
       "<table border=\"1\" class=\"dataframe\">\n",
       "  <thead>\n",
       "    <tr style=\"text-align: right;\">\n",
       "      <th></th>\n",
       "      <th>job_title</th>\n",
       "      <th>company_name</th>\n",
       "      <th>job_description</th>\n",
       "      <th>via</th>\n",
       "      <th>job_id</th>\n",
       "      <th>posted_hours_ago</th>\n",
       "      <th>report_run_datetime</th>\n",
       "      <th>apply_options</th>\n",
       "      <th>rating</th>\n",
       "      <th>#_of_reviews</th>\n",
       "      <th>...</th>\n",
       "      <th>salary_based_on</th>\n",
       "      <th>salary_from</th>\n",
       "      <th>salary_to</th>\n",
       "      <th>salary_source</th>\n",
       "      <th>my_keywords</th>\n",
       "      <th>job_description_summary</th>\n",
       "      <th>sentiment_score</th>\n",
       "      <th>salary_mention</th>\n",
       "      <th>named_entity_recognition</th>\n",
       "      <th>job_id.1</th>\n",
       "    </tr>\n",
       "  </thead>\n",
       "  <tbody>\n",
       "    <tr>\n",
       "      <th>0</th>\n",
       "      <td>Program Operations Management Analyst</td>\n",
       "      <td>Google</td>\n",
       "      <td>Minimum qualifications:\\n• Bachelor's degree o...</td>\n",
       "      <td>via Girlboss Jobs</td>\n",
       "      <td>eyJqb2JfdGl0bGUiOiJQcm9ncmFtIE9wZXJhdGlvbnMgTW...</td>\n",
       "      <td>0</td>\n",
       "      <td>2023-02-21 06:39:38</td>\n",
       "      <td>https://jobs.girlboss.com/program-operations-m...</td>\n",
       "      <td>4.5</td>\n",
       "      <td>40353.0</td>\n",
       "      <td>...</td>\n",
       "      <td>Based on local employers</td>\n",
       "      <td>82000.0</td>\n",
       "      <td>130000.0</td>\n",
       "      <td>Salary.com</td>\n",
       "      <td>visualization sql tableau</td>\n",
       "      <td>• Knowledge of SQL and data visualization tool...</td>\n",
       "      <td>0.9965</td>\n",
       "      <td>['range', 'between', '$109,000', '-', '$117,00...</td>\n",
       "      <td>(S\\n  (GPE Minimum/JJ)\\n  qualifications/NNS\\n...</td>\n",
       "      <td>NaN</td>\n",
       "    </tr>\n",
       "    <tr>\n",
       "      <th>1</th>\n",
       "      <td>Data Center Operations Analyst</td>\n",
       "      <td>Adobe</td>\n",
       "      <td>Our Company\\n\\nChanging the world through digi...</td>\n",
       "      <td>via Adobe - Talentify</td>\n",
       "      <td>eyJqb2JfdGl0bGUiOiJEYXRhIENlbnRlciBPcGVyYXRpb2...</td>\n",
       "      <td>0</td>\n",
       "      <td>2023-02-21 06:39:38</td>\n",
       "      <td>https://adobe.talentify.io/job/data-center-ope...</td>\n",
       "      <td>4.4</td>\n",
       "      <td>8412.0</td>\n",
       "      <td>...</td>\n",
       "      <td>NaN</td>\n",
       "      <td>NaN</td>\n",
       "      <td>NaN</td>\n",
       "      <td>NaN</td>\n",
       "      <td>NaN</td>\n",
       "      <td>Changing the world through digital experiences...</td>\n",
       "      <td>0.9977</td>\n",
       "      <td>['range', 'for', 'the', 'job', 'location', 'du...</td>\n",
       "      <td>(S\\n  Our/PRP$\\n  Company/NN\\n  Changing/VBG\\n...</td>\n",
       "      <td>NaN</td>\n",
       "    </tr>\n",
       "    <tr>\n",
       "      <th>2</th>\n",
       "      <td>Business Operations Analyst</td>\n",
       "      <td>Juniper Networks</td>\n",
       "      <td>Job Title: Business Analyst - Global Service O...</td>\n",
       "      <td>via Salary.com</td>\n",
       "      <td>eyJqb2JfdGl0bGUiOiJCdXNpbmVzcyBPcGVyYXRpb25zIE...</td>\n",
       "      <td>0</td>\n",
       "      <td>2023-02-21 06:39:38</td>\n",
       "      <td>https://www.salary.com/job/juniper-networks/bu...</td>\n",
       "      <td>4.3</td>\n",
       "      <td>3943.0</td>\n",
       "      <td>...</td>\n",
       "      <td>Juniper Networks</td>\n",
       "      <td>76000.0</td>\n",
       "      <td>120000.0</td>\n",
       "      <td>Indeed</td>\n",
       "      <td>NaN</td>\n",
       "      <td>Responsibilities... The primary responsibility...</td>\n",
       "      <td>0.9741</td>\n",
       "      <td>salary not mentioned</td>\n",
       "      <td>(S\\n  (PERSON Job/NNP)\\n  Title/NNP\\n  :/:\\n  ...</td>\n",
       "      <td>NaN</td>\n",
       "    </tr>\n",
       "    <tr>\n",
       "      <th>3</th>\n",
       "      <td>Marketing Campaign Operations Analyst</td>\n",
       "      <td>Aquent</td>\n",
       "      <td>The Marketing Analytics team is looking for a ...</td>\n",
       "      <td>via Aquent Talent</td>\n",
       "      <td>eyJqb2JfdGl0bGUiOiJNYXJrZXRpbmcgQ2FtcGFpZ24gT3...</td>\n",
       "      <td>0</td>\n",
       "      <td>2023-02-21 06:39:38</td>\n",
       "      <td>https://aquenttalent.com/talent/jobs/181552?re...</td>\n",
       "      <td>4.2</td>\n",
       "      <td>940.0</td>\n",
       "      <td>...</td>\n",
       "      <td>NaN</td>\n",
       "      <td>NaN</td>\n",
       "      <td>NaN</td>\n",
       "      <td>NaN</td>\n",
       "      <td>sql</td>\n",
       "      <td>The Marketing Analytics team is looking for a ...</td>\n",
       "      <td>0.9979</td>\n",
       "      <td>salary not mentioned</td>\n",
       "      <td>(S\\n  The/DT\\n  Marketing/NNP\\n  Analytics/NNP...</td>\n",
       "      <td>NaN</td>\n",
       "    </tr>\n",
       "    <tr>\n",
       "      <th>4</th>\n",
       "      <td>Data Scientist (All Levels)</td>\n",
       "      <td>Noblis</td>\n",
       "      <td>Responsibilities\\n\\nNoblis is seeking to hire ...</td>\n",
       "      <td>via Noblis - Careers - ICIMS</td>\n",
       "      <td>eyJqb2JfdGl0bGUiOiJEYXRhIFNjaWVudGlzdCAoQWxsIE...</td>\n",
       "      <td>0</td>\n",
       "      <td>2023-02-21 06:47:47</td>\n",
       "      <td>https://jobs-noblis.icims.com/jobs/21177/data-...</td>\n",
       "      <td>4.0</td>\n",
       "      <td>66.0</td>\n",
       "      <td>...</td>\n",
       "      <td>NaN</td>\n",
       "      <td>NaN</td>\n",
       "      <td>NaN</td>\n",
       "      <td>NaN</td>\n",
       "      <td>python</td>\n",
       "      <td>As a Data Scientist with our team, you will be...</td>\n",
       "      <td>0.9990</td>\n",
       "      <td>['at', 'Noblis', 'is', 'determined', 'by', 'va...</td>\n",
       "      <td>(S\\n  Responsibilities/NNS\\n  (PERSON Noblis/N...</td>\n",
       "      <td>NaN</td>\n",
       "    </tr>\n",
       "  </tbody>\n",
       "</table>\n",
       "<p>5 rows × 21 columns</p>\n",
       "</div>"
      ],
      "text/plain": [
       "                               job_title      company_name  \\\n",
       "0  Program Operations Management Analyst            Google   \n",
       "1         Data Center Operations Analyst             Adobe   \n",
       "2            Business Operations Analyst  Juniper Networks   \n",
       "3  Marketing Campaign Operations Analyst            Aquent   \n",
       "4            Data Scientist (All Levels)            Noblis   \n",
       "\n",
       "                                     job_description  \\\n",
       "0  Minimum qualifications:\\n• Bachelor's degree o...   \n",
       "1  Our Company\\n\\nChanging the world through digi...   \n",
       "2  Job Title: Business Analyst - Global Service O...   \n",
       "3  The Marketing Analytics team is looking for a ...   \n",
       "4  Responsibilities\\n\\nNoblis is seeking to hire ...   \n",
       "\n",
       "                            via  \\\n",
       "0             via Girlboss Jobs   \n",
       "1         via Adobe - Talentify   \n",
       "2                via Salary.com   \n",
       "3             via Aquent Talent   \n",
       "4  via Noblis - Careers - ICIMS   \n",
       "\n",
       "                                              job_id  posted_hours_ago  \\\n",
       "0  eyJqb2JfdGl0bGUiOiJQcm9ncmFtIE9wZXJhdGlvbnMgTW...                 0   \n",
       "1  eyJqb2JfdGl0bGUiOiJEYXRhIENlbnRlciBPcGVyYXRpb2...                 0   \n",
       "2  eyJqb2JfdGl0bGUiOiJCdXNpbmVzcyBPcGVyYXRpb25zIE...                 0   \n",
       "3  eyJqb2JfdGl0bGUiOiJNYXJrZXRpbmcgQ2FtcGFpZ24gT3...                 0   \n",
       "4  eyJqb2JfdGl0bGUiOiJEYXRhIFNjaWVudGlzdCAoQWxsIE...                 0   \n",
       "\n",
       "   report_run_datetime                                      apply_options  \\\n",
       "0  2023-02-21 06:39:38  https://jobs.girlboss.com/program-operations-m...   \n",
       "1  2023-02-21 06:39:38  https://adobe.talentify.io/job/data-center-ope...   \n",
       "2  2023-02-21 06:39:38  https://www.salary.com/job/juniper-networks/bu...   \n",
       "3  2023-02-21 06:39:38  https://aquenttalent.com/talent/jobs/181552?re...   \n",
       "4  2023-02-21 06:47:47  https://jobs-noblis.icims.com/jobs/21177/data-...   \n",
       "\n",
       "   rating  #_of_reviews  ...           salary_based_on salary_from  salary_to  \\\n",
       "0     4.5       40353.0  ...  Based on local employers     82000.0   130000.0   \n",
       "1     4.4        8412.0  ...                       NaN         NaN        NaN   \n",
       "2     4.3        3943.0  ...          Juniper Networks     76000.0   120000.0   \n",
       "3     4.2         940.0  ...                       NaN         NaN        NaN   \n",
       "4     4.0          66.0  ...                       NaN         NaN        NaN   \n",
       "\n",
       "   salary_source                my_keywords  \\\n",
       "0     Salary.com  visualization sql tableau   \n",
       "1            NaN                        NaN   \n",
       "2         Indeed                        NaN   \n",
       "3            NaN                        sql   \n",
       "4            NaN                     python   \n",
       "\n",
       "                             job_description_summary sentiment_score  \\\n",
       "0  • Knowledge of SQL and data visualization tool...          0.9965   \n",
       "1  Changing the world through digital experiences...          0.9977   \n",
       "2  Responsibilities... The primary responsibility...          0.9741   \n",
       "3  The Marketing Analytics team is looking for a ...          0.9979   \n",
       "4  As a Data Scientist with our team, you will be...          0.9990   \n",
       "\n",
       "                                      salary_mention  \\\n",
       "0  ['range', 'between', '$109,000', '-', '$117,00...   \n",
       "1  ['range', 'for', 'the', 'job', 'location', 'du...   \n",
       "2                               salary not mentioned   \n",
       "3                               salary not mentioned   \n",
       "4  ['at', 'Noblis', 'is', 'determined', 'by', 'va...   \n",
       "\n",
       "                            named_entity_recognition job_id.1  \n",
       "0  (S\\n  (GPE Minimum/JJ)\\n  qualifications/NNS\\n...      NaN  \n",
       "1  (S\\n  Our/PRP$\\n  Company/NN\\n  Changing/VBG\\n...      NaN  \n",
       "2  (S\\n  (PERSON Job/NNP)\\n  Title/NNP\\n  :/:\\n  ...      NaN  \n",
       "3  (S\\n  The/DT\\n  Marketing/NNP\\n  Analytics/NNP...      NaN  \n",
       "4  (S\\n  Responsibilities/NNS\\n  (PERSON Noblis/N...      NaN  \n",
       "\n",
       "[5 rows x 21 columns]"
      ]
     },
     "execution_count": 38,
     "metadata": {},
     "output_type": "execute_result"
    }
   ],
   "source": [
    "\n",
    "df.head()"
   ]
  },
  {
   "cell_type": "code",
   "execution_count": 39,
   "metadata": {},
   "outputs": [],
   "source": [
    "# Dropping the duplicate job_id column\n",
    "df = df.drop(columns='job_id.1')\n"
   ]
  },
  {
   "cell_type": "code",
   "execution_count": null,
   "metadata": {},
   "outputs": [],
   "source": [
    "# Dropping the duplicate job_id column\n",
    "df = df.drop(columns='Unnamed: 0')"
   ]
  },
  {
   "cell_type": "code",
   "execution_count": 45,
   "metadata": {},
   "outputs": [
    {
     "data": {
      "text/plain": [
       "job_title                   1480\n",
       "company_name                1480\n",
       "job_description             1480\n",
       "via                         1480\n",
       "job_id                      1480\n",
       "posted_hours_ago            1480\n",
       "report_run_datetime         1480\n",
       "apply_options               1480\n",
       "rating                       900\n",
       "#_of_reviews                 900\n",
       "rating_source                900\n",
       "salary_based_on              606\n",
       "salary_from                  606\n",
       "salary_to                    599\n",
       "salary_source                606\n",
       "my_keywords                  811\n",
       "job_description_summary     1480\n",
       "sentiment_score             1480\n",
       "salary_mention              1480\n",
       "named_entity_recognition    1480\n",
       "dtype: int64"
      ]
     },
     "execution_count": 45,
     "metadata": {},
     "output_type": "execute_result"
    }
   ],
   "source": [
    "df.count()"
   ]
  },
  {
   "cell_type": "code",
   "execution_count": 46,
   "metadata": {},
   "outputs": [
    {
     "name": "stdout",
     "output_type": "stream",
     "text": [
      "There were 200 job listings that were captured twice or more.\n"
     ]
    }
   ],
   "source": [
    "# Count the number of occurrences of each unique value in the 'job_id' column\n",
    "job_id_counts = df['job_id'].value_counts()\n",
    "\n",
    "# Select only the values that occur twice or more\n",
    "job_id_counts_2 = job_id_counts[job_id_counts >=2]\n",
    "\n",
    "# Get the count of values that occur exactly twice\n",
    "num_jobs_with_2_instances = len(job_id_counts_2)\n",
    "\n",
    "print(f'There were {num_jobs_with_2_instances} job listings that were captured twice or more.')"
   ]
  },
  {
   "cell_type": "code",
   "execution_count": 50,
   "metadata": {},
   "outputs": [],
   "source": [
    "# Remove duplicate rows based on 'job_id'\n",
    "df = df.drop_duplicates(subset=['job_id']).copy()"
   ]
  },
  {
   "cell_type": "code",
   "execution_count": 51,
   "metadata": {},
   "outputs": [
    {
     "name": "stdout",
     "output_type": "stream",
     "text": [
      "The average length of a job description was 4204, the NLTK summarizer brought the average length down to 978.\n",
      "That is a reduction of 77% in length on average.\n"
     ]
    }
   ],
   "source": [
    "# Analyzing how much NLTK summarizer reduced the descriptions\n",
    "\n",
    "df['job_desc_len'] = df['job_description'].str.len()\n",
    "df['job_sum_len'] = df['job_description_summary'].str.len()\n",
    "\n",
    "avg_job_desc_len = round(df['job_desc_len'].mean())\n",
    "avg_job_sum_len = round(df['job_sum_len'].mean())\n",
    "avg_desc_perc_change = round((avg_job_sum_len-avg_job_desc_len)/avg_job_desc_len *-100)\n",
    "\n",
    "print(f'The average length of a job description was {avg_job_desc_len}, the NLTK summarizer brought the average length down to {avg_job_sum_len}.')\n",
    "print(f'That is a reduction of {avg_desc_perc_change}% in length on average.')"
   ]
  },
  {
   "cell_type": "code",
   "execution_count": 65,
   "metadata": {},
   "outputs": [
    {
     "name": "stdout",
     "output_type": "stream",
     "text": [
      "55.55% of listings had keyword matches with a count of: 711\n",
      "44.45% of listings did not have keyword matches with a count of:  569\n"
     ]
    }
   ],
   "source": [
    "# Examining how many listings had hits for my keywords\n",
    "\n",
    "# Count the number of non-NaN values\n",
    "keyword_matches = df['my_keywords'].count()\n",
    "\n",
    "# Count the number of NaN values\n",
    "keyword_nan = df['my_keywords'].isnull().sum()\n",
    "\n",
    "# Print the results\n",
    "print(f'{round(keyword_matches/len(df)*100,2)}% of listings had keyword matches with a count of: {keyword_matches}')\n",
    "print(f'{round(keyword_nan/len(df)*100,2)}% of listings did not have keyword matches with a count of:  {keyword_nan}')"
   ]
  },
  {
   "cell_type": "code",
   "execution_count": 116,
   "metadata": {},
   "outputs": [
    {
     "name": "stdout",
     "output_type": "stream",
     "text": [
      "                                     count  percent_of_total\n",
      "job_title                                                   \n",
      "Data Analyst                            92             10.00\n",
      "Operations Analyst                      72              7.83\n",
      "Senior Data Analyst                     30              3.26\n",
      "Revenue Operations Analyst              25              2.72\n",
      "Business Operations Analyst             24              2.61\n",
      "Sales Operations Analyst (Remote)       18              1.96\n",
      "Sr. Data Analyst                        17              1.85\n",
      "Senior Data Analyst (Remote)            14              1.52\n",
      "Sales Operations Analyst                11              1.20\n",
      "Revenue Operations Analyst (Remote)     10              1.09\n"
     ]
    }
   ],
   "source": [
    "# Looking at the the most common job titles\n",
    "\n",
    "top_overall_titles = df.groupby(df['job_title']).count()['job_description'].sort_values(ascending=False)[0:10]\n",
    "# Calculate the percentage of total for each job title\n",
    "total_count = len(df['job_description'])\n",
    "percent_of_total = top_overall_titles.apply(lambda x: (x / total_count) * 100)\n",
    "\n",
    "# Adding the percent of total column to the groupby object\n",
    "top_overall_titles_with_pct = pd.concat([top_overall_titles, percent_of_total], axis=1, keys=['count', 'percent_of_total'])\n",
    "\n",
    "# Round the percent column to two decimal places\n",
    "top_overall_titles_with_pct['percent_of_total'] = top_overall_titles_with_pct['percent_of_total'].round(2)\n",
    "\n",
    "print(top_overall_titles_with_pct)"
   ]
  },
  {
   "cell_type": "code",
   "execution_count": 68,
   "metadata": {},
   "outputs": [
    {
     "name": "stdout",
     "output_type": "stream",
     "text": [
      "                         count  percent_of_total\n",
      "company_name                                    \n",
      "Softheon                    22              1.72\n",
      "Rightway                    19              1.48\n",
      "Robert Half                 18              1.41\n",
      "Aquent                      16              1.25\n",
      "Peraton                     15              1.17\n",
      "Humana                      14              1.09\n",
      "Headway                     14              1.09\n",
      "Center for Fair Futures     12              0.94\n",
      "Headway.co                  12              0.94\n",
      "Uplight                     11              0.86\n"
     ]
    }
   ],
   "source": [
    "# Looking at the companies that have the most listings in the dataset\n",
    "\n",
    "top_overall_comps = df.groupby(df['company_name']).count()['job_description'].sort_values(ascending=False)[0:10]\n",
    "# Calculate the percentage of total for each job title\n",
    "total_count = len(df['job_description'])\n",
    "percent_of_total = top_overall_comps.apply(lambda x: (x / total_count) * 100)\n",
    "\n",
    "# Adding the percent of total column to the groupby object\n",
    "top_overall_comps_with_pct = pd.concat([top_overall_comps, percent_of_total], axis=1, keys=['count', 'percent_of_total'])\n",
    "\n",
    "# Round the percent column to two decimal places\n",
    "top_overall_comps_with_pct['percent_of_total'] = top_overall_comps_with_pct['percent_of_total'].round(2)\n",
    "\n",
    "print(top_overall_comps_with_pct)"
   ]
  },
  {
   "cell_type": "code",
   "execution_count": null,
   "metadata": {},
   "outputs": [],
   "source": []
  },
  {
   "attachments": {},
   "cell_type": "markdown",
   "metadata": {},
   "source": [
    "### Visualizations of Cumulative Data\n",
    "\n",
    "The following three visualizations give an overview of the data collected over the course of the project. They show which companies are most frequently listing the jobs searched, the actual titles of the listings and where the jobs are being posted most frequently. \n",
    "\n",
    "Graphs are saved to an output file."
   ]
  },
  {
   "cell_type": "code",
   "execution_count": 84,
   "metadata": {},
   "outputs": [],
   "source": [
    "# Getting the top companies by # of listings \n",
    "\n",
    "top_overall_listers = df.groupby(df['company_name']).count()['job_title'].sort_values(ascending=False)[0:15]\n",
    "\n",
    "top_overall_comps = top_overall_listers.index.tolist()\n",
    "top_overall_comps_nums = top_overall_listers.values.tolist()"
   ]
  },
  {
   "cell_type": "code",
   "execution_count": 105,
   "metadata": {},
   "outputs": [],
   "source": [
    "# Remove non-alphanumeric characters from top_comps\n",
    "top_overall_comps = [comp.replace('\\n', ' ') for comp in top_overall_comps]"
   ]
  },
  {
   "cell_type": "code",
   "execution_count": 107,
   "metadata": {},
   "outputs": [
    {
     "ename": "ValueError",
     "evalue": "invalid literal for int() with base 10: 'Aon Corporation'",
     "output_type": "error",
     "traceback": [
      "\u001b[0;31m---------------------------------------------------------------------------\u001b[0m",
      "\u001b[0;31mValueError\u001b[0m                                Traceback (most recent call last)",
      "\u001b[0;32m/var/folders/v0/rlrtvnc53g178pfy3_fzt2wm0000gp/T/ipykernel_18785/3318332816.py\u001b[0m in \u001b[0;36m<module>\u001b[0;34m\u001b[0m\n\u001b[1;32m      5\u001b[0m \u001b[0mplt\u001b[0m\u001b[0;34m.\u001b[0m\u001b[0mxlabel\u001b[0m\u001b[0;34m(\u001b[0m\u001b[0;34m'# of Postings'\u001b[0m\u001b[0;34m,\u001b[0m \u001b[0mfontdict\u001b[0m\u001b[0;34m=\u001b[0m\u001b[0;34m{\u001b[0m\u001b[0;34m'family'\u001b[0m\u001b[0;34m:\u001b[0m\u001b[0;34m'monospace'\u001b[0m\u001b[0;34m,\u001b[0m\u001b[0;34m'color'\u001b[0m\u001b[0;34m:\u001b[0m\u001b[0;34m'black'\u001b[0m\u001b[0;34m,\u001b[0m\u001b[0;34m'size'\u001b[0m\u001b[0;34m:\u001b[0m\u001b[0;36m13\u001b[0m\u001b[0;34m}\u001b[0m\u001b[0;34m)\u001b[0m\u001b[0;34m\u001b[0m\u001b[0;34m\u001b[0m\u001b[0m\n\u001b[1;32m      6\u001b[0m \u001b[0mplt\u001b[0m\u001b[0;34m.\u001b[0m\u001b[0mtitle\u001b[0m\u001b[0;34m(\u001b[0m\u001b[0;34m'Overall Top 15 Companies by # of Job Postings'\u001b[0m\u001b[0;34m,\u001b[0m \u001b[0mfontdict\u001b[0m\u001b[0;34m=\u001b[0m\u001b[0;34m{\u001b[0m\u001b[0;34m'family'\u001b[0m\u001b[0;34m:\u001b[0m\u001b[0;34m'monospace'\u001b[0m\u001b[0;34m,\u001b[0m\u001b[0;34m'color'\u001b[0m\u001b[0;34m:\u001b[0m\u001b[0;34m'black'\u001b[0m\u001b[0;34m,\u001b[0m\u001b[0;34m'size'\u001b[0m\u001b[0;34m:\u001b[0m\u001b[0;36m13\u001b[0m\u001b[0;34m}\u001b[0m\u001b[0;34m)\u001b[0m\u001b[0;34m\u001b[0m\u001b[0;34m\u001b[0m\u001b[0m\n\u001b[0;32m----> 7\u001b[0;31m \u001b[0mplt\u001b[0m\u001b[0;34m.\u001b[0m\u001b[0mxticks\u001b[0m\u001b[0;34m(\u001b[0m\u001b[0mrange\u001b[0m\u001b[0;34m(\u001b[0m\u001b[0mint\u001b[0m\u001b[0;34m(\u001b[0m\u001b[0mmin\u001b[0m\u001b[0;34m(\u001b[0m\u001b[0mtop_overall_comps\u001b[0m\u001b[0;34m)\u001b[0m\u001b[0;34m)\u001b[0m\u001b[0;34m,\u001b[0m \u001b[0mint\u001b[0m\u001b[0;34m(\u001b[0m\u001b[0mmax\u001b[0m\u001b[0;34m(\u001b[0m\u001b[0mtop_overall_comps_nums\u001b[0m\u001b[0;34m)\u001b[0m\u001b[0;34m)\u001b[0m\u001b[0;34m+\u001b[0m\u001b[0;36m1\u001b[0m\u001b[0;34m)\u001b[0m\u001b[0;34m)\u001b[0m\u001b[0;34m\u001b[0m\u001b[0;34m\u001b[0m\u001b[0m\n\u001b[0m\u001b[1;32m      8\u001b[0m \u001b[0;34m\u001b[0m\u001b[0m\n\u001b[1;32m      9\u001b[0m \u001b[0;31m# Set y-axis label and font\u001b[0m\u001b[0;34m\u001b[0m\u001b[0;34m\u001b[0m\u001b[0m\n",
      "\u001b[0;31mValueError\u001b[0m: invalid literal for int() with base 10: 'Aon Corporation'"
     ]
    },
    {
     "data": {
      "image/png": "[encoded data removed]",
      "text/plain": [
       "<Figure size 640x480 with 1 Axes>"
      ]
     },
     "metadata": {},
     "output_type": "display_data"
    }
   ],
   "source": [
    "\n",
    "# Create horizontal bar chart for the overall top companies by # of listings \n",
    "plt.barh(top_overall_comps, top_overall_comps_nums, align='center', color='lightgreen', edgecolor='green')\n",
    "\n",
    "# Set x-axis label, title, and ticks\n",
    "plt.xlabel('# of Postings', fontdict={'family':'monospace','color':'black','size':13})\n",
    "plt.title('Overall Top 15 Companies by # of Job Postings', fontdict={'family':'monospace','color':'black','size':13})\n",
    "plt.xticks(range(int(min(top_overall_comps)), int(max(top_overall_comps_nums))+1))\n",
    "\n",
    "# Set y-axis label and font\n",
    "plt.ylabel('Companies', fontdict={'family':'monospace','color':'black','size':9})\n",
    "plt.tick_params(axis='y', labelsize=9)\n",
    "for label in plt.gca().get_yticklabels():\n",
    "    label.set_fontproperties({'family':'monospace','size':9})\n",
    "\n",
    "# Adjust y-axis ticks\n",
    "plt.tick_params(axis='y', which='major', direction='inout')\n",
    "\n",
    "# Save and display plot\n",
    "plt.tight_layout()\n",
    "# plt.savefig('/Users/laceymorgan/Desktop/data_job_analysis/daily_job_overview_visualizations/top_companies_2_28_2023.png')\n",
    "plt.show()\n"
   ]
  },
  {
   "cell_type": "code",
   "execution_count": 86,
   "metadata": {},
   "outputs": [],
   "source": [
    "# Getting the overall top job titles by frequency\n",
    "\n",
    "top_overall_desc = df.groupby(df['job_title']).count()['job_description'].sort_values(ascending=False)[0:15]\n",
    "\n",
    "top_overall_title = top_overall_desc.index.tolist()\n",
    "top_overall_title_nums = top_overall_desc.values.tolist()"
   ]
  },
  {
   "cell_type": "code",
   "execution_count": 96,
   "metadata": {},
   "outputs": [
    {
     "data": {
      "image/png": "[encoded data removed]",
      "text/plain": [
       "<Figure size 640x480 with 1 Axes>"
      ]
     },
     "metadata": {},
     "output_type": "display_data"
    }
   ],
   "source": [
    "\n",
    "# Create horizontal bar chart for the overall top job titles by frequency\n",
    "plt.barh(top_overall_title, top_overall_title_nums, align='center', color='lightgreen', edgecolor='green')\n",
    "\n",
    "# Set x-axis label, title, and ticks\n",
    "plt.xlabel('# of Postings', fontdict={'family':'monospace','color':'black','size':13})\n",
    "plt.title('Overall Top 15 Job Titles by Frequency', fontdict={'family':'monospace','color':'black','size':13})\n",
    "plt.xticks(range(int(min(top_overall_title_nums)), int(max(top_overall_title_nums))+1))\n",
    "x_major_locator = MultipleLocator(20)\n",
    "plt.gca().xaxis.set_major_locator(x_major_locator)\n",
    "plt.xlim(0,160)\n",
    "\n",
    "# Set y-axis label and font\n",
    "plt.ylabel('Titles', fontdict={'family':'monospace','color':'black','size':9})\n",
    "plt.tick_params(axis='y', labelsize=9)\n",
    "for label in plt.gca().get_yticklabels():\n",
    "    label.set_fontproperties({'family':'monospace','size':9})\n",
    "\n",
    "# Adjust y-axis ticks\n",
    "plt.tick_params(axis='y', which='major', direction='inout')\n",
    "\n",
    "# Save and display plot\n",
    "plt.tight_layout()\n",
    "# plt.savefig('/Users/laceymorgan/Desktop/data_job_analysis/daily_job_overview_visualizations/top_titles_2_28_2023.png')\n",
    "plt.show()\n"
   ]
  },
  {
   "cell_type": "code",
   "execution_count": 108,
   "metadata": {},
   "outputs": [],
   "source": [
    "# Getting the top overall listings sites by frequency\n",
    "\n",
    "top_overall_announce = df.groupby(df['via']).count()['job_description'].sort_values(ascending=False)[0:15]\n",
    "\n",
    "top_overall_announce_name = top_overall_announce.index.tolist()\n",
    "top_overall_announce_nums = top_overall_announce.values.tolist()"
   ]
  },
  {
   "cell_type": "code",
   "execution_count": 112,
   "metadata": {},
   "outputs": [
    {
     "data": {
      "image/png": "[encoded data removed]",
      "text/plain": [
       "<Figure size 640x480 with 1 Axes>"
      ]
     },
     "metadata": {},
     "output_type": "display_data"
    }
   ],
   "source": [
    "\n",
    "# Create horizontal bar chart for the overall top job titles by frequency\n",
    "plt.barh(top_overall_announce_name, top_overall_announce_nums, align='center', color='lightgreen', edgecolor='green')\n",
    "\n",
    "# Set x-axis label, title, and ticks\n",
    "plt.xlabel('# of Postings', fontdict={'family':'monospace','color':'black','size':13})\n",
    "plt.title('Overall Top 15 Posting Sites by Frequency', fontdict={'family':'monospace','color':'black','size':13})\n",
    "plt.xticks(range(int(min(top_overall_announce_nums)), int(max(top_overall_announce_nums))+1))\n",
    "x_major_locator = MultipleLocator(20)\n",
    "plt.gca().xaxis.set_major_locator(x_major_locator)\n",
    "\n",
    "# Set y-axis label and font\n",
    "plt.ylabel('Posting Site', fontdict={'family':'monospace','color':'black','size':9})\n",
    "plt.tick_params(axis='y', labelsize=9)\n",
    "for label in plt.gca().get_yticklabels():\n",
    "    label.set_fontproperties({'family':'monospace','size':9})\n",
    "\n",
    "# Adjust y-axis ticks\n",
    "plt.tick_params(axis='y', which='major', direction='inout')\n",
    "\n",
    "# Save and display plot\n",
    "plt.tight_layout()\n",
    "# plt.savefig('/Users/laceymorgan/Desktop/data_job_analysis/daily_job_overview_visualizations/top_posting_site_2_28_2023.png')\n",
    "plt.show()\n"
   ]
  },
  {
   "cell_type": "code",
   "execution_count": null,
   "metadata": {},
   "outputs": [],
   "source": []
  },
  {
   "attachments": {},
   "cell_type": "markdown",
   "metadata": {},
   "source": [
    "## LinkedIn Analysis\n",
    "\n",
    "Looking at the total # of listings captured by the SERP API Google Job search, by far the most listings are found on LinkedIn so a deeper looking at those specific postings might yeild interesting insights"
   ]
  },
  {
   "cell_type": "code",
   "execution_count": 119,
   "metadata": {},
   "outputs": [
    {
     "name": "stdout",
     "output_type": "stream",
     "text": [
      "172 of the job postings captured were via LinkedIn. That is 13.44% of the jobs captured\n"
     ]
    }
   ],
   "source": [
    "link_df = df.loc[df['via'] == 'via LinkedIn']\n",
    "\n",
    "print(f'{len(link_df)} of the job postings captured were via LinkedIn. That is {round(len(link_df)/len(df)*100,2)}% of the jobs captured')"
   ]
  },
  {
   "attachments": {},
   "cell_type": "markdown",
   "metadata": {},
   "source": [
    "## Cumulative NLTK Analysis\n",
    "Looking at the total results of the Natural Learning Toolkit methods applied to the dataset. "
   ]
  },
  {
   "cell_type": "code",
   "execution_count": 120,
   "metadata": {},
   "outputs": [
    {
     "name": "stdout",
     "output_type": "stream",
     "text": [
      "20.0% of listings matched as senior roles with a count of: 258\n"
     ]
    },
    {
     "name": "stderr",
     "output_type": "stream",
     "text": [
      "/var/folders/v0/rlrtvnc53g178pfy3_fzt2wm0000gp/T/ipykernel_18785/1640846906.py:5: UserWarning: This pattern is interpreted as a regular expression, and has match groups. To actually get the groups, use str.extract.\n",
      "  df['senior_match'] = df['job_title'].str.lower().str.contains(pattern)\n"
     ]
    }
   ],
   "source": [
    "# Define the pattern to match\n",
    "pattern = r'\\b(senior|sr|sr\\.|lead|manager|sr .)\\b'\n",
    "\n",
    "# Create a new column that returns a boolean indicating whether the my_keywords column matches the pattern\n",
    "df['senior_match'] = df['job_title'].str.lower().str.contains(pattern) \n",
    "\n",
    "# Examining how many listings are for these senior roles\n",
    "\n",
    "# Count the number of True values in the senior_match column\n",
    "num_senior_matches = df['senior_match'].sum()\n",
    "\n",
    "# print(f'Number of senior roles in the dataset: {num_senior_matches}')\n",
    "print(f'{(round(num_senior_matches/len(df),2)*100)}% of listings matched as senior roles with a count of: {num_senior_matches}')\n"
   ]
  },
  {
   "cell_type": "code",
   "execution_count": 121,
   "metadata": {},
   "outputs": [
    {
     "data": {
      "text/plain": [
       "count    1280.000000\n",
       "mean        0.980396\n",
       "std         0.114181\n",
       "min        -0.926000\n",
       "25%         0.995700\n",
       "50%         0.998100\n",
       "75%         0.999100\n",
       "max         1.000000\n",
       "Name: sentiment_score, dtype: float64"
      ]
     },
     "execution_count": 121,
     "metadata": {},
     "output_type": "execute_result"
    }
   ],
   "source": [
    "# Overview of the NLTK generated sentiment scores\n",
    "df['sentiment_score'].describe()"
   ]
  },
  {
   "attachments": {},
   "cell_type": "markdown",
   "metadata": {},
   "source": [
    "## Google Listing Additional info "
   ]
  },
  {
   "cell_type": "code",
   "execution_count": 125,
   "metadata": {},
   "outputs": [
    {
     "name": "stdout",
     "output_type": "stream",
     "text": [
      "NLTK was able to find the salary mentioned in 35% of listings had with a count of: 450\n"
     ]
    }
   ],
   "source": [
    "# Looking at how many listings NLTK was able to pull salary info from\n",
    "salary_extract = df.loc[df['salary_mention']!='salary not mentioned']\n",
    "len(salary_extract)/len(df) *100\n",
    "\n",
    "# Print the results\n",
    "print(f'NLTK was able to find the salary mentioned in {(round(len(salary_extract)/len(df) *100))}% of listings had with a count of: {len(salary_extract)}')"
   ]
  },
  {
   "cell_type": "code",
   "execution_count": 126,
   "metadata": {},
   "outputs": [
    {
     "data": {
      "text/plain": [
       "count    772.000000\n",
       "mean       3.766710\n",
       "std        0.471901\n",
       "min        1.600000\n",
       "25%        3.500000\n",
       "50%        3.800000\n",
       "75%        4.000000\n",
       "max        5.000000\n",
       "Name: rating, dtype: float64"
      ]
     },
     "execution_count": 126,
     "metadata": {},
     "output_type": "execute_result"
    }
   ],
   "source": [
    "# Overview of the rating information gathered from the google jobs listings endpoint\n",
    "\n",
    "df['rating'].describe()"
   ]
  },
  {
   "cell_type": "code",
   "execution_count": 131,
   "metadata": {},
   "outputs": [
    {
     "name": "stdout",
     "output_type": "stream",
     "text": [
      "Of the 772 company ratings gathered from the Google jobs listings endpoint, only 4 listings were posted by companies that had a perfect 5 rating.\n"
     ]
    }
   ],
   "source": [
    "# How many listings were present in the dataset with companies having a perfect 5 rating\n",
    "five_df = df.loc[df['rating'] ==5]\n",
    "\n",
    "print(f\"Of the {df['rating'].count()} company ratings gathered from the Google jobs listings endpoint, only {len(df.loc[df['rating'] == 5])} listings were posted by companies that had a perfect 5 rating.\")"
   ]
  },
  {
   "cell_type": "code",
   "execution_count": 132,
   "metadata": {},
   "outputs": [
    {
     "data": {
      "text/html": [
       "<div>\n",
       "<style scoped>\n",
       "    .dataframe tbody tr th:only-of-type {\n",
       "        vertical-align: middle;\n",
       "    }\n",
       "\n",
       "    .dataframe tbody tr th {\n",
       "        vertical-align: top;\n",
       "    }\n",
       "\n",
       "    .dataframe thead th {\n",
       "        text-align: right;\n",
       "    }\n",
       "</style>\n",
       "<table border=\"1\" class=\"dataframe\">\n",
       "  <thead>\n",
       "    <tr style=\"text-align: right;\">\n",
       "      <th></th>\n",
       "      <th>job_title</th>\n",
       "      <th>company_name</th>\n",
       "      <th>job_description</th>\n",
       "      <th>via</th>\n",
       "      <th>job_id</th>\n",
       "      <th>posted_hours_ago</th>\n",
       "      <th>report_run_datetime</th>\n",
       "      <th>apply_options</th>\n",
       "      <th>rating</th>\n",
       "      <th>#_of_reviews</th>\n",
       "      <th>...</th>\n",
       "      <th>salary_to</th>\n",
       "      <th>salary_source</th>\n",
       "      <th>my_keywords</th>\n",
       "      <th>job_description_summary</th>\n",
       "      <th>sentiment_score</th>\n",
       "      <th>salary_mention</th>\n",
       "      <th>named_entity_recognition</th>\n",
       "      <th>job_desc_len</th>\n",
       "      <th>job_sum_len</th>\n",
       "      <th>senior_match</th>\n",
       "    </tr>\n",
       "  </thead>\n",
       "  <tbody>\n",
       "    <tr>\n",
       "      <th>32</th>\n",
       "      <td>Threat Hunting Operations Analyst (100% remote)</td>\n",
       "      <td>Toyota Tsusho Systems US, Inc.</td>\n",
       "      <td>ABOUT TTS-US\\n\\nFounded in 2011, Toyota Tsusho...</td>\n",
       "      <td>via LinkedIn</td>\n",
       "      <td>eyJqb2JfdGl0bGUiOiJUaHJlYXQgSHVudGluZyBPcGVyYX...</td>\n",
       "      <td>20</td>\n",
       "      <td>2023-02-21 06:39:38</td>\n",
       "      <td>https://www.linkedin.com/jobs/view/threat-hunt...</td>\n",
       "      <td>5.0</td>\n",
       "      <td>10.0</td>\n",
       "      <td>...</td>\n",
       "      <td>54000.0</td>\n",
       "      <td>Salary.com</td>\n",
       "      <td>sql</td>\n",
       "      <td>Founded in 2011, Toyota Tsusho Systems US, Inc...</td>\n",
       "      <td>0.9701</td>\n",
       "      <td>salary not mentioned</td>\n",
       "      <td>(S\\n  ABOUT/IN\\n  TTS-US/NNP\\n  Founded/NNP\\n ...</td>\n",
       "      <td>3650</td>\n",
       "      <td>995</td>\n",
       "      <td>False</td>\n",
       "    </tr>\n",
       "    <tr>\n",
       "      <th>1113</th>\n",
       "      <td>Senior Data Analyst, Team Lead</td>\n",
       "      <td>Atria Wealth Solutions</td>\n",
       "      <td>We are looking for a Senior Data Analyst - Tea...</td>\n",
       "      <td>via Atria Wealth Solutions - JazzHR</td>\n",
       "      <td>eyJqb2JfdGl0bGUiOiJTZW5pb3IgRGF0YSBBbmFseXN0LC...</td>\n",
       "      <td>480</td>\n",
       "      <td>2023-02-22 10:23:14</td>\n",
       "      <td>https://atriawealth.applytojob.com/apply/d8WR4...</td>\n",
       "      <td>5.0</td>\n",
       "      <td>3.0</td>\n",
       "      <td>...</td>\n",
       "      <td>NaN</td>\n",
       "      <td>NaN</td>\n",
       "      <td>sql</td>\n",
       "      <td>The Sr Data Analyst, Team Lead will be respons...</td>\n",
       "      <td>0.9995</td>\n",
       "      <td>['range', 'for', 'this', 'position', 'is', '$9...</td>\n",
       "      <td>(S\\n  We/PRP\\n  are/VBP\\n  looking/VBG\\n  for/...</td>\n",
       "      <td>6984</td>\n",
       "      <td>1207</td>\n",
       "      <td>True</td>\n",
       "    </tr>\n",
       "    <tr>\n",
       "      <th>1230</th>\n",
       "      <td>Senior Data Analyst, Team Lead</td>\n",
       "      <td>Atria Wealth Solutions</td>\n",
       "      <td>We are looking for a Senior Data Analyst - Tea...</td>\n",
       "      <td>via Atria Wealth Solutions - JazzHR</td>\n",
       "      <td>eyJqb2JfdGl0bGUiOiJTZW5pb3IgRGF0YSBBbmFseXN0LC...</td>\n",
       "      <td>504</td>\n",
       "      <td>2023-02-23 06:32:04</td>\n",
       "      <td>https://atriawealth.applytojob.com/apply/d8WR4...</td>\n",
       "      <td>5.0</td>\n",
       "      <td>3.0</td>\n",
       "      <td>...</td>\n",
       "      <td>NaN</td>\n",
       "      <td>NaN</td>\n",
       "      <td>sql</td>\n",
       "      <td>The Sr Data Analyst, Team Lead will be respons...</td>\n",
       "      <td>0.9995</td>\n",
       "      <td>['range', 'for', 'this', 'position', 'is', '$9...</td>\n",
       "      <td>(S\\n  We/PRP\\n  are/VBP\\n  looking/VBG\\n  for/...</td>\n",
       "      <td>6984</td>\n",
       "      <td>1207</td>\n",
       "      <td>True</td>\n",
       "    </tr>\n",
       "    <tr>\n",
       "      <th>1400</th>\n",
       "      <td>Business Operations Analyst (Remote)</td>\n",
       "      <td>Vynca Inc</td>\n",
       "      <td>Description:\\n\\nJob Type...\\n\\nFull time\\n\\nTh...</td>\n",
       "      <td>via Indeed</td>\n",
       "      <td>eyJqb2JfdGl0bGUiOiJCdXNpbmVzcyBPcGVyYXRpb25zIE...</td>\n",
       "      <td>18</td>\n",
       "      <td>2023-02-24 08:52:29</td>\n",
       "      <td>https://www.indeed.com/viewjob?jk=91ab12c9df64...</td>\n",
       "      <td>5.0</td>\n",
       "      <td>4.0</td>\n",
       "      <td>...</td>\n",
       "      <td>88000.0</td>\n",
       "      <td>Glassdoor</td>\n",
       "      <td>sql</td>\n",
       "      <td>You will work across departments to learn abou...</td>\n",
       "      <td>0.9984</td>\n",
       "      <td>salary not mentioned</td>\n",
       "      <td>(S\\n  Description/NN\\n  :/:\\n  (PERSON Job/NNP...</td>\n",
       "      <td>3645</td>\n",
       "      <td>721</td>\n",
       "      <td>False</td>\n",
       "    </tr>\n",
       "  </tbody>\n",
       "</table>\n",
       "<p>4 rows × 23 columns</p>\n",
       "</div>"
      ],
      "text/plain": [
       "                                            job_title  \\\n",
       "32    Threat Hunting Operations Analyst (100% remote)   \n",
       "1113                   Senior Data Analyst, Team Lead   \n",
       "1230                   Senior Data Analyst, Team Lead   \n",
       "1400             Business Operations Analyst (Remote)   \n",
       "\n",
       "                        company_name  \\\n",
       "32    Toyota Tsusho Systems US, Inc.   \n",
       "1113          Atria Wealth Solutions   \n",
       "1230          Atria Wealth Solutions   \n",
       "1400                       Vynca Inc   \n",
       "\n",
       "                                        job_description  \\\n",
       "32    ABOUT TTS-US\\n\\nFounded in 2011, Toyota Tsusho...   \n",
       "1113  We are looking for a Senior Data Analyst - Tea...   \n",
       "1230  We are looking for a Senior Data Analyst - Tea...   \n",
       "1400  Description:\\n\\nJob Type...\\n\\nFull time\\n\\nTh...   \n",
       "\n",
       "                                      via  \\\n",
       "32                           via LinkedIn   \n",
       "1113  via Atria Wealth Solutions - JazzHR   \n",
       "1230  via Atria Wealth Solutions - JazzHR   \n",
       "1400                           via Indeed   \n",
       "\n",
       "                                                 job_id  posted_hours_ago  \\\n",
       "32    eyJqb2JfdGl0bGUiOiJUaHJlYXQgSHVudGluZyBPcGVyYX...                20   \n",
       "1113  eyJqb2JfdGl0bGUiOiJTZW5pb3IgRGF0YSBBbmFseXN0LC...               480   \n",
       "1230  eyJqb2JfdGl0bGUiOiJTZW5pb3IgRGF0YSBBbmFseXN0LC...               504   \n",
       "1400  eyJqb2JfdGl0bGUiOiJCdXNpbmVzcyBPcGVyYXRpb25zIE...                18   \n",
       "\n",
       "      report_run_datetime                                      apply_options  \\\n",
       "32    2023-02-21 06:39:38  https://www.linkedin.com/jobs/view/threat-hunt...   \n",
       "1113  2023-02-22 10:23:14  https://atriawealth.applytojob.com/apply/d8WR4...   \n",
       "1230  2023-02-23 06:32:04  https://atriawealth.applytojob.com/apply/d8WR4...   \n",
       "1400  2023-02-24 08:52:29  https://www.indeed.com/viewjob?jk=91ab12c9df64...   \n",
       "\n",
       "      rating  #_of_reviews  ... salary_to salary_source  my_keywords  \\\n",
       "32       5.0          10.0  ...   54000.0    Salary.com          sql   \n",
       "1113     5.0           3.0  ...       NaN           NaN          sql   \n",
       "1230     5.0           3.0  ...       NaN           NaN          sql   \n",
       "1400     5.0           4.0  ...   88000.0     Glassdoor          sql   \n",
       "\n",
       "                                job_description_summary sentiment_score  \\\n",
       "32    Founded in 2011, Toyota Tsusho Systems US, Inc...          0.9701   \n",
       "1113  The Sr Data Analyst, Team Lead will be respons...          0.9995   \n",
       "1230  The Sr Data Analyst, Team Lead will be respons...          0.9995   \n",
       "1400  You will work across departments to learn abou...          0.9984   \n",
       "\n",
       "                                         salary_mention  \\\n",
       "32                                 salary not mentioned   \n",
       "1113  ['range', 'for', 'this', 'position', 'is', '$9...   \n",
       "1230  ['range', 'for', 'this', 'position', 'is', '$9...   \n",
       "1400                               salary not mentioned   \n",
       "\n",
       "                               named_entity_recognition  job_desc_len  \\\n",
       "32    (S\\n  ABOUT/IN\\n  TTS-US/NNP\\n  Founded/NNP\\n ...          3650   \n",
       "1113  (S\\n  We/PRP\\n  are/VBP\\n  looking/VBG\\n  for/...          6984   \n",
       "1230  (S\\n  We/PRP\\n  are/VBP\\n  looking/VBG\\n  for/...          6984   \n",
       "1400  (S\\n  Description/NN\\n  :/:\\n  (PERSON Job/NNP...          3645   \n",
       "\n",
       "     job_sum_len senior_match  \n",
       "32           995        False  \n",
       "1113        1207         True  \n",
       "1230        1207         True  \n",
       "1400         721        False  \n",
       "\n",
       "[4 rows x 23 columns]"
      ]
     },
     "execution_count": 132,
     "metadata": {},
     "output_type": "execute_result"
    }
   ],
   "source": [
    "five_df.head()"
   ]
  },
  {
   "cell_type": "code",
   "execution_count": null,
   "metadata": {},
   "outputs": [],
   "source": []
  }
 ],
 "metadata": {
  "kernelspec": {
   "display_name": "PythonData",
   "language": "python",
   "name": "pythondata"
  },
  "language_info": {
   "codemirror_mode": {
    "name": "ipython",
    "version": 3
   },
   "file_extension": ".py",
   "mimetype": "text/x-python",
   "name": "python",
   "nbconvert_exporter": "python",
   "pygments_lexer": "ipython3",
   "version": "3.9.13"
  },
  "orig_nbformat": 4,
  "vscode": {
   "interpreter": {
    "hash": "31f2aee4e71d21fbe5cf8b01ff0e069b9275f58929596ceb00d14d90e3e16cd6"
   }
  }
 },
 "nbformat": 4,
 "nbformat_minor": 2
}
