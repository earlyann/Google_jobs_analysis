{
 "cells": [
  {
   "cell_type": "code",
   "execution_count": 129,
   "metadata": {},
   "outputs": [],
   "source": [
    "import os\n",
    "import pandas as pd\n",
    "import matplotlib.pyplot as plt\n",
    "from matplotlib.ticker import FuncFormatter, FixedLocator, MultipleLocator\n",
    "import re"
   ]
  },
  {
   "attachments": {},
   "cell_type": "markdown",
   "metadata": {},
   "source": [
    "### Analysis of Complied Data\n",
    "Here I use Pandas and PyPlot to analyze the data as a whole to answer questions and draw conclusions. "
   ]
  },
  {
   "cell_type": "code",
   "execution_count": 130,
   "metadata": {},
   "outputs": [],
   "source": [
    "\n",
    "# Set the path of the directory that contains the CSV files\n",
    "directory = '/Users/laceymorgan/Desktop/data_job_analysis/'\n",
    "\n",
    "# Get a list of all CSV files in the directory\n",
    "csv_files = [os.path.join(directory, file) for file in os.listdir(directory) if file.endswith('.csv')]\n",
    "\n",
    "# Create an empty DataFrame to store the concatenated data\n",
    "df = pd.DataFrame()\n",
    "\n",
    "# Loop through each CSV file and concatenate the data\n",
    "for file in csv_files:\n",
    "    data = pd.read_csv(file)\n",
    "    df = pd.concat([df, data], ignore_index=True)\n"
   ]
  },
  {
   "cell_type": "code",
   "execution_count": 131,
   "metadata": {},
   "outputs": [
    {
     "data": {
      "text/html": [
       "<div>\n",
       "<style scoped>\n",
       "    .dataframe tbody tr th:only-of-type {\n",
       "        vertical-align: middle;\n",
       "    }\n",
       "\n",
       "    .dataframe tbody tr th {\n",
       "        vertical-align: top;\n",
       "    }\n",
       "\n",
       "    .dataframe thead th {\n",
       "        text-align: right;\n",
       "    }\n",
       "</style>\n",
       "<table border=\"1\" class=\"dataframe\">\n",
       "  <thead>\n",
       "    <tr style=\"text-align: right;\">\n",
       "      <th></th>\n",
       "      <th>job_title</th>\n",
       "      <th>company_name</th>\n",
       "      <th>job_description</th>\n",
       "      <th>via</th>\n",
       "      <th>job_id</th>\n",
       "      <th>posted_hours_ago</th>\n",
       "      <th>report_run_datetime</th>\n",
       "      <th>apply_options</th>\n",
       "      <th>rating</th>\n",
       "      <th>#_of_reviews</th>\n",
       "      <th>...</th>\n",
       "      <th>salary_based_on</th>\n",
       "      <th>salary_from</th>\n",
       "      <th>salary_to</th>\n",
       "      <th>salary_source</th>\n",
       "      <th>my_keywords</th>\n",
       "      <th>job_description_summary</th>\n",
       "      <th>preprocessed_description</th>\n",
       "      <th>sentiment_score</th>\n",
       "      <th>salary_mention</th>\n",
       "      <th>named_entity_recognition</th>\n",
       "    </tr>\n",
       "  </thead>\n",
       "  <tbody>\n",
       "    <tr>\n",
       "      <th>0</th>\n",
       "      <td>Data Analyst - Product and Acquisition focus</td>\n",
       "      <td>Wanderu</td>\n",
       "      <td>Wanderu is the leading ground travel search in...</td>\n",
       "      <td>via Openings At Wanderu</td>\n",
       "      <td>eyJqb2JfdGl0bGUiOiJEYXRhIEFuYWx5c3QgLSBQcm9kdW...</td>\n",
       "      <td>0</td>\n",
       "      <td>2023-03-08 13:07:51</td>\n",
       "      <td>https://wanderu.breezy.hr/p/0592386a7c2d-data-...</td>\n",
       "      <td>5.0</td>\n",
       "      <td>9.0</td>\n",
       "      <td>...</td>\n",
       "      <td>NaN</td>\n",
       "      <td>NaN</td>\n",
       "      <td>NaN</td>\n",
       "      <td>NaN</td>\n",
       "      <td>python sql</td>\n",
       "      <td>Wanderu is a company that values and promotes ...</td>\n",
       "      <td>wanderu lead ground travel search north americ...</td>\n",
       "      <td>0.9949</td>\n",
       "      <td>salary not mentioned</td>\n",
       "      <td>(S\\n  (GPE Wanderu/NNP)\\n  is/VBZ\\n  the/DT\\n ...</td>\n",
       "    </tr>\n",
       "    <tr>\n",
       "      <th>1</th>\n",
       "      <td>Data Analyst</td>\n",
       "      <td>Ookla</td>\n",
       "      <td>We’re Ookla, the company behind Speedtest, Dow...</td>\n",
       "      <td>via Jobs By Workable</td>\n",
       "      <td>eyJqb2JfdGl0bGUiOiJEYXRhIEFuYWx5c3QiLCJodGlkb2...</td>\n",
       "      <td>0</td>\n",
       "      <td>2023-03-08 13:07:51</td>\n",
       "      <td>https://apply.workable.com/ookla/j/96DE997419/...</td>\n",
       "      <td>4.7</td>\n",
       "      <td>20.0</td>\n",
       "      <td>...</td>\n",
       "      <td>Based on local employers</td>\n",
       "      <td>54000.0</td>\n",
       "      <td>120000.0</td>\n",
       "      <td>Indeed</td>\n",
       "      <td>python visualization sql</td>\n",
       "      <td>We’re Ookla, the company behind Speedtest, Dow...</td>\n",
       "      <td>ookla compani behind speedtest downdetector su...</td>\n",
       "      <td>0.9989</td>\n",
       "      <td>['range', 'reflected', 'is', 'an', 'estimate',...</td>\n",
       "      <td>(S\\n  We/PRP\\n  ’/VBP\\n  re/JJ\\n  Ookla/NNP\\n ...</td>\n",
       "    </tr>\n",
       "    <tr>\n",
       "      <th>2</th>\n",
       "      <td>Senior Data Analyst</td>\n",
       "      <td>Vouch</td>\n",
       "      <td>About Vouch:\\n\\nInsurance... sounds slow, old-...</td>\n",
       "      <td>via Y Combinator</td>\n",
       "      <td>eyJqb2JfdGl0bGUiOiJTZW5pb3IgRGF0YSBBbmFseXN0Ii...</td>\n",
       "      <td>0</td>\n",
       "      <td>2023-03-08 13:07:51</td>\n",
       "      <td>https://www.ycombinator.com/companies/vouch/jo...</td>\n",
       "      <td>4.6</td>\n",
       "      <td>28.0</td>\n",
       "      <td>...</td>\n",
       "      <td>NaN</td>\n",
       "      <td>NaN</td>\n",
       "      <td>NaN</td>\n",
       "      <td>NaN</td>\n",
       "      <td>python sql tableau</td>\n",
       "      <td>As an insurance company, data is at the core o...</td>\n",
       "      <td>vouch insur sound slow unexcit exact insur bro...</td>\n",
       "      <td>0.9892</td>\n",
       "      <td>['Range:', 'The', 'pay', 'range', 'for', 'this...</td>\n",
       "      <td>(S\\n  About/IN\\n  (PERSON Vouch/JJ)\\n  :/:\\n  ...</td>\n",
       "    </tr>\n",
       "    <tr>\n",
       "      <th>3</th>\n",
       "      <td>Program Operations Management Analyst</td>\n",
       "      <td>Google</td>\n",
       "      <td>Minimum qualifications:\\n• Bachelor's degree o...</td>\n",
       "      <td>via Girlboss Jobs</td>\n",
       "      <td>eyJqb2JfdGl0bGUiOiJQcm9ncmFtIE9wZXJhdGlvbnMgTW...</td>\n",
       "      <td>0</td>\n",
       "      <td>2023-03-08 13:07:00</td>\n",
       "      <td>https://jobs.girlboss.com/program-operations-m...</td>\n",
       "      <td>4.4</td>\n",
       "      <td>40866.0</td>\n",
       "      <td>...</td>\n",
       "      <td>Based on local employers</td>\n",
       "      <td>49000.0</td>\n",
       "      <td>78000.0</td>\n",
       "      <td>Salary.com</td>\n",
       "      <td>visualization sql tableau</td>\n",
       "      <td>• Knowledge of SQL and data visualization tool...</td>\n",
       "      <td>minimum qualif bachelor degre equival practic ...</td>\n",
       "      <td>0.9908</td>\n",
       "      <td>['range', 'between', '$109,000', '-', '$117,00...</td>\n",
       "      <td>(S\\n  (GPE Minimum/JJ)\\n  qualifications/NNS\\n...</td>\n",
       "    </tr>\n",
       "    <tr>\n",
       "      <th>4</th>\n",
       "      <td>Business Operations Analyst</td>\n",
       "      <td>Juniper Networks</td>\n",
       "      <td>Job Title: Business Analyst - Global Service O...</td>\n",
       "      <td>via Salary.com</td>\n",
       "      <td>eyJqb2JfdGl0bGUiOiJCdXNpbmVzcyBPcGVyYXRpb25zIE...</td>\n",
       "      <td>0</td>\n",
       "      <td>2023-03-08 13:07:00</td>\n",
       "      <td>https://www.salary.com/job/juniper-networks/bu...</td>\n",
       "      <td>4.3</td>\n",
       "      <td>3960.0</td>\n",
       "      <td>...</td>\n",
       "      <td>Juniper Networks</td>\n",
       "      <td>76000.0</td>\n",
       "      <td>120000.0</td>\n",
       "      <td>Indeed</td>\n",
       "      <td>NaN</td>\n",
       "      <td>Responsibilities... The primary responsibility...</td>\n",
       "      <td>job titl busi analyst global servic oper respo...</td>\n",
       "      <td>0.9337</td>\n",
       "      <td>salary not mentioned</td>\n",
       "      <td>(S\\n  (PERSON Job/NNP)\\n  Title/NNP\\n  :/:\\n  ...</td>\n",
       "    </tr>\n",
       "  </tbody>\n",
       "</table>\n",
       "<p>5 rows × 21 columns</p>\n",
       "</div>"
      ],
      "text/plain": [
       "                                      job_title      company_name  \\\n",
       "0  Data Analyst - Product and Acquisition focus           Wanderu   \n",
       "1                                  Data Analyst             Ookla   \n",
       "2                           Senior Data Analyst             Vouch   \n",
       "3         Program Operations Management Analyst            Google   \n",
       "4                   Business Operations Analyst  Juniper Networks   \n",
       "\n",
       "                                     job_description                      via  \\\n",
       "0  Wanderu is the leading ground travel search in...  via Openings At Wanderu   \n",
       "1  We’re Ookla, the company behind Speedtest, Dow...     via Jobs By Workable   \n",
       "2  About Vouch:\\n\\nInsurance... sounds slow, old-...         via Y Combinator   \n",
       "3  Minimum qualifications:\\n• Bachelor's degree o...        via Girlboss Jobs   \n",
       "4  Job Title: Business Analyst - Global Service O...           via Salary.com   \n",
       "\n",
       "                                              job_id  posted_hours_ago  \\\n",
       "0  eyJqb2JfdGl0bGUiOiJEYXRhIEFuYWx5c3QgLSBQcm9kdW...                 0   \n",
       "1  eyJqb2JfdGl0bGUiOiJEYXRhIEFuYWx5c3QiLCJodGlkb2...                 0   \n",
       "2  eyJqb2JfdGl0bGUiOiJTZW5pb3IgRGF0YSBBbmFseXN0Ii...                 0   \n",
       "3  eyJqb2JfdGl0bGUiOiJQcm9ncmFtIE9wZXJhdGlvbnMgTW...                 0   \n",
       "4  eyJqb2JfdGl0bGUiOiJCdXNpbmVzcyBPcGVyYXRpb25zIE...                 0   \n",
       "\n",
       "   report_run_datetime                                      apply_options  \\\n",
       "0  2023-03-08 13:07:51  https://wanderu.breezy.hr/p/0592386a7c2d-data-...   \n",
       "1  2023-03-08 13:07:51  https://apply.workable.com/ookla/j/96DE997419/...   \n",
       "2  2023-03-08 13:07:51  https://www.ycombinator.com/companies/vouch/jo...   \n",
       "3  2023-03-08 13:07:00  https://jobs.girlboss.com/program-operations-m...   \n",
       "4  2023-03-08 13:07:00  https://www.salary.com/job/juniper-networks/bu...   \n",
       "\n",
       "   rating  #_of_reviews  ...           salary_based_on salary_from  salary_to  \\\n",
       "0     5.0           9.0  ...                       NaN         NaN        NaN   \n",
       "1     4.7          20.0  ...  Based on local employers     54000.0   120000.0   \n",
       "2     4.6          28.0  ...                       NaN         NaN        NaN   \n",
       "3     4.4       40866.0  ...  Based on local employers     49000.0    78000.0   \n",
       "4     4.3        3960.0  ...          Juniper Networks     76000.0   120000.0   \n",
       "\n",
       "   salary_source                my_keywords  \\\n",
       "0            NaN                 python sql   \n",
       "1         Indeed   python visualization sql   \n",
       "2            NaN         python sql tableau   \n",
       "3     Salary.com  visualization sql tableau   \n",
       "4         Indeed                        NaN   \n",
       "\n",
       "                             job_description_summary  \\\n",
       "0  Wanderu is a company that values and promotes ...   \n",
       "1  We’re Ookla, the company behind Speedtest, Dow...   \n",
       "2  As an insurance company, data is at the core o...   \n",
       "3  • Knowledge of SQL and data visualization tool...   \n",
       "4  Responsibilities... The primary responsibility...   \n",
       "\n",
       "                            preprocessed_description sentiment_score  \\\n",
       "0  wanderu lead ground travel search north americ...          0.9949   \n",
       "1  ookla compani behind speedtest downdetector su...          0.9989   \n",
       "2  vouch insur sound slow unexcit exact insur bro...          0.9892   \n",
       "3  minimum qualif bachelor degre equival practic ...          0.9908   \n",
       "4  job titl busi analyst global servic oper respo...          0.9337   \n",
       "\n",
       "                                      salary_mention  \\\n",
       "0                               salary not mentioned   \n",
       "1  ['range', 'reflected', 'is', 'an', 'estimate',...   \n",
       "2  ['Range:', 'The', 'pay', 'range', 'for', 'this...   \n",
       "3  ['range', 'between', '$109,000', '-', '$117,00...   \n",
       "4                               salary not mentioned   \n",
       "\n",
       "                            named_entity_recognition  \n",
       "0  (S\\n  (GPE Wanderu/NNP)\\n  is/VBZ\\n  the/DT\\n ...  \n",
       "1  (S\\n  We/PRP\\n  ’/VBP\\n  re/JJ\\n  Ookla/NNP\\n ...  \n",
       "2  (S\\n  About/IN\\n  (PERSON Vouch/JJ)\\n  :/:\\n  ...  \n",
       "3  (S\\n  (GPE Minimum/JJ)\\n  qualifications/NNS\\n...  \n",
       "4  (S\\n  (PERSON Job/NNP)\\n  Title/NNP\\n  :/:\\n  ...  \n",
       "\n",
       "[5 rows x 21 columns]"
      ]
     },
     "execution_count": 131,
     "metadata": {},
     "output_type": "execute_result"
    }
   ],
   "source": [
    "\n",
    "df.head()"
   ]
  },
  {
   "cell_type": "code",
   "execution_count": 132,
   "metadata": {},
   "outputs": [
    {
     "name": "stdout",
     "output_type": "stream",
     "text": [
      "job_title                      0\n",
      "company_name                   0\n",
      "job_description                0\n",
      "via                            0\n",
      "job_id                         0\n",
      "posted_hours_ago               0\n",
      "report_run_datetime            0\n",
      "apply_options                  0\n",
      "rating                      1341\n",
      "#_of_reviews                1341\n",
      "rating_source               1341\n",
      "salary_based_on             1658\n",
      "salary_from                 1658\n",
      "salary_to                   1658\n",
      "salary_source               1658\n",
      "my_keywords                 1002\n",
      "job_description_summary        0\n",
      "preprocessed_description       0\n",
      "sentiment_score                0\n",
      "salary_mention                 0\n",
      "named_entity_recognition       0\n",
      "dtype: int64\n"
     ]
    }
   ],
   "source": [
    "print(df.isnull().sum())"
   ]
  },
  {
   "cell_type": "code",
   "execution_count": 133,
   "metadata": {},
   "outputs": [
    {
     "data": {
      "text/plain": [
       "2400"
      ]
     },
     "execution_count": 133,
     "metadata": {},
     "output_type": "execute_result"
    }
   ],
   "source": [
    "len(df)"
   ]
  },
  {
   "cell_type": "code",
   "execution_count": 134,
   "metadata": {},
   "outputs": [
    {
     "name": "stdout",
     "output_type": "stream",
     "text": [
      "The number of unique job IDs is 240.\n"
     ]
    }
   ],
   "source": [
    "# Count the number of unique job IDs in the 'job_id' column\n",
    "unique_job_ids = df['job_id'].nunique()\n",
    "\n",
    "# Print the result\n",
    "print(f'The number of unique job IDs is {unique_job_ids}.')"
   ]
  },
  {
   "cell_type": "code",
   "execution_count": 135,
   "metadata": {},
   "outputs": [
    {
     "name": "stdout",
     "output_type": "stream",
     "text": [
      "The number of unique job IDs is 240.\n"
     ]
    }
   ],
   "source": [
    "# Count the number of unique job IDs in the 'job_id' column\n",
    "unique_job_ids_2 = len(set(df['job_id']))\n",
    "\n",
    "# Print the result\n",
    "print(f'The number of unique job IDs is {unique_job_ids_2}.')"
   ]
  },
  {
   "cell_type": "code",
   "execution_count": 136,
   "metadata": {},
   "outputs": [],
   "source": [
    "# Remove duplicate rows based on 'job_id'\n",
    "clean_df = df.drop_duplicates(subset=['job_id'])"
   ]
  },
  {
   "cell_type": "code",
   "execution_count": 137,
   "metadata": {},
   "outputs": [
    {
     "data": {
      "text/plain": [
       "240"
      ]
     },
     "execution_count": 137,
     "metadata": {},
     "output_type": "execute_result"
    }
   ],
   "source": [
    "len(clean_df)"
   ]
  },
  {
   "cell_type": "code",
   "execution_count": 138,
   "metadata": {},
   "outputs": [
    {
     "data": {
      "text/plain": [
       "sql                                 23\n",
       "python sql                          19\n",
       "python visualization sql tableau    17\n",
       "sql tableau                         16\n",
       "tableau                             12\n",
       "python sql tableau                  10\n",
       "visualization sql tableau            8\n",
       "python                               8\n",
       "visualization sql                    7\n",
       "visualization                        6\n",
       "visualization tableau                4\n",
       "python visualization sql             3\n",
       "python visualization tableau         3\n",
       "python tableau                       1\n",
       "python pandas                        1\n",
       "Name: my_keywords, dtype: int64"
      ]
     },
     "execution_count": 138,
     "metadata": {},
     "output_type": "execute_result"
    }
   ],
   "source": [
    "clean_df['my_keywords'].value_counts()"
   ]
  },
  {
   "cell_type": "code",
   "execution_count": 139,
   "metadata": {},
   "outputs": [
    {
     "name": "stdout",
     "output_type": "stream",
     "text": [
      "138 out of 240 rows (57.50%) had keyword hits.\n"
     ]
    }
   ],
   "source": [
    "# Count the number of rows with at least one keyword hit\n",
    "num_keyword_hits = len(clean_df[clean_df['my_keywords'].notnull()])\n",
    "\n",
    "# Calculate the percentage of rows with keyword hits\n",
    "percent_keyword_hits = num_keyword_hits / len(clean_df) * 100\n",
    "\n",
    "# Print the results\n",
    "print(f'{num_keyword_hits} out of {len(clean_df)} rows ({percent_keyword_hits:.2f}%) had keyword hits.')\n"
   ]
  },
  {
   "cell_type": "code",
   "execution_count": 140,
   "metadata": {},
   "outputs": [
    {
     "name": "stdout",
     "output_type": "stream",
     "text": [
      "The average length of a job description was 4188, the NLTK summarizer brought the average length down to 1066.\n",
      "That is a reduction of 75% in length on average.\n"
     ]
    }
   ],
   "source": [
    "# Analyzing how much NLTK summarizer reduced the descriptions\n",
    "clean_df =  clean_df.copy()\n",
    "\n",
    "clean_df['job_desc_len'] = clean_df['job_description'].str.len()\n",
    "clean_df['job_sum_len'] = clean_df['job_description_summary'].str.len()\n",
    "\n",
    "avg_job_desc_len = round(clean_df['job_desc_len'].mean())\n",
    "avg_job_sum_len = round(clean_df['job_sum_len'].mean())\n",
    "avg_desc_perc_change = round((avg_job_sum_len-avg_job_desc_len)/avg_job_desc_len *-100)\n",
    "\n",
    "print(f'The average length of a job description was {avg_job_desc_len}, the NLTK summarizer brought the average length down to {avg_job_sum_len}.')\n",
    "print(f'That is a reduction of {avg_desc_perc_change}% in length on average.')"
   ]
  },
  {
   "cell_type": "code",
   "execution_count": 141,
   "metadata": {},
   "outputs": [
    {
     "name": "stdout",
     "output_type": "stream",
     "text": [
      "                                     count  percent_of_total\n",
      "job_title                                                   \n",
      "Data Analyst                            34             14.17\n",
      "Operations Analyst                      25             10.42\n",
      "Senior Data Analyst                     13              5.42\n",
      "Sales Operations Analyst (Remote)        6              2.50\n",
      "Business Operations Analyst              5              2.08\n",
      "Revenue Operations Analyst (Remote)      5              2.08\n",
      "Data Analyst (Remote)                    4              1.67\n",
      "Sales Data Analyst                       4              1.67\n",
      "Data Analyst Senior - BIS (Remote)       3              1.25\n",
      "Revenue Operations Analyst               3              1.25\n"
     ]
    }
   ],
   "source": [
    "# Looking at the the most common job titles\n",
    "\n",
    "top_overall_titles = clean_df.groupby(clean_df['job_title']).count()['job_description'].sort_values(ascending=False)[0:10]\n",
    "# Calculate the percentage of total for each job title\n",
    "total_count = len(clean_df['job_description'])\n",
    "percent_of_total = top_overall_titles.apply(lambda x: (x / total_count) * 100)\n",
    "\n",
    "# Adding the percent of total column to the groupby object\n",
    "top_overall_titles_with_pct = pd.concat([top_overall_titles, percent_of_total], axis=1, keys=['count', 'percent_of_total'])\n",
    "\n",
    "# Round the percent column to two decimal places\n",
    "top_overall_titles_with_pct['percent_of_total'] = top_overall_titles_with_pct['percent_of_total'].round(2)\n",
    "\n",
    "print(top_overall_titles_with_pct)"
   ]
  },
  {
   "cell_type": "code",
   "execution_count": 142,
   "metadata": {},
   "outputs": [
    {
     "name": "stdout",
     "output_type": "stream",
     "text": [
      "                    count  percent_of_total\n",
      "company_name                               \n",
      "City National Bank      6              0.25\n",
      "Robert Half             5              0.21\n",
      "Peraton                 4              0.17\n",
      "Headway                 4              0.17\n",
      "Randstad USA            3              0.12\n",
      "UnitedHealth Group      3              0.12\n",
      "COTA                    3              0.12\n",
      "Beyond Finance          3              0.12\n",
      "InnovateEDU             3              0.12\n",
      "Pinterest               3              0.12\n"
     ]
    }
   ],
   "source": [
    "# Looking at the companies that have the most listings in the dataset\n",
    "\n",
    "top_overall_comps = clean_df.groupby(clean_df['company_name']).count()['job_description'].sort_values(ascending=False)[0:10]\n",
    "# Calculate the percentage of total for each job title\n",
    "total_count = len(df['job_description'])\n",
    "percent_of_total = top_overall_comps.apply(lambda x: (x / total_count) * 100)\n",
    "\n",
    "# Adding the percent of total column to the groupby object\n",
    "top_overall_comps_with_pct = pd.concat([top_overall_comps, percent_of_total], axis=1, keys=['count', 'percent_of_total'])\n",
    "\n",
    "# Round the percent column to two decimal places\n",
    "top_overall_comps_with_pct['percent_of_total'] = top_overall_comps_with_pct['percent_of_total'].round(2)\n",
    "\n",
    "print(top_overall_comps_with_pct)"
   ]
  },
  {
   "attachments": {},
   "cell_type": "markdown",
   "metadata": {},
   "source": [
    "### Visualizations of Cumulative Data\n",
    "\n",
    "The following three visualizations give an overview of the data collected over the course of the project. They show which companies are most frequently listing the jobs searched, the actual titles of the listings and where the jobs are being posted most frequently. \n",
    "\n",
    "Graphs are saved to an output file."
   ]
  },
  {
   "cell_type": "code",
   "execution_count": 143,
   "metadata": {},
   "outputs": [],
   "source": [
    "# Getting the top companies by # of listings \n",
    "\n",
    "top_overall_listers = clean_df.groupby(clean_df['company_name']).count()['job_title'].sort_values(ascending=False)[0:15]\n",
    "\n",
    "top_overall_comps = top_overall_listers.index.tolist()\n",
    "top_overall_comps_nums = top_overall_listers.values.tolist()"
   ]
  },
  {
   "cell_type": "code",
   "execution_count": 167,
   "metadata": {},
   "outputs": [],
   "source": [
    "# Remove non-alphanumeric characters from top_comps\n",
    "top_overall_comps = [re.sub(r'\\W+', '', comp) for comp in top_overall_comps]\n"
   ]
  },
  {
   "cell_type": "code",
   "execution_count": 173,
   "metadata": {},
   "outputs": [
    {
     "data": {
      "image/png": "[encoded data removed]",
      "text/plain": [
       "<Figure size 640x480 with 1 Axes>"
      ]
     },
     "metadata": {},
     "output_type": "display_data"
    }
   ],
   "source": [
    "\n",
    "# Create horizontal bar chart for the overall top companies by # of listings \n",
    "plt.barh(top_overall_comps, top_overall_comps_nums, align='center', color='lightgreen', edgecolor='green')\n",
    "\n",
    "# Set x-axis label, title, and ticks\n",
    "plt.xlabel('# of Postings', fontdict={'family':'monospace','color':'black','size':13})\n",
    "plt.title('Overall Top 15 Companies by # of Job Postings', fontdict={'family':'monospace','color':'black','size':13}, loc='left')\n",
    "# plt.xticks(range(int(min(top_overall_comps)), int(max(top_overall_comps_nums))+1))\n",
    "\n",
    "# Set y-axis label and font\n",
    "plt.ylabel('Companies', fontdict={'family':'monospace','color':'black','size':9})\n",
    "plt.tick_params(axis='y', labelsize=9)\n",
    "for label in plt.gca().get_yticklabels():\n",
    "    label.set_fontproperties({'family':'monospace','size':9})\n",
    "\n",
    "# Adjust y-axis ticks\n",
    "plt.tick_params(axis='y', which='major', direction='inout')\n",
    "\n",
    "# Adjust the figure size for best viewing\n",
    "# plt.figure(figsize=(8,5))\n",
    "\n",
    "# Save and display plot\n",
    "# plt.tight_layout()\n",
    "plt.savefig('/Users/laceymorgan/Desktop/data_job_analysis/visualizations/overall_top_companies.png',dpi=300, bbox_inches='tight')\n",
    "\n",
    "plt.show()\n"
   ]
  },
  {
   "cell_type": "code",
   "execution_count": 146,
   "metadata": {},
   "outputs": [],
   "source": [
    "# Getting the overall top job titles by frequency\n",
    "\n",
    "top_overall_desc = clean_df.groupby(clean_df['job_title']).count()['job_description'].sort_values(ascending=False)[0:15]\n",
    "\n",
    "top_overall_title = top_overall_desc.index.tolist()\n",
    "top_overall_title_nums = top_overall_desc.values.tolist()"
   ]
  },
  {
   "cell_type": "code",
   "execution_count": 174,
   "metadata": {},
   "outputs": [
    {
     "data": {
      "image/png": "[encoded data removed]",
      "text/plain": [
       "<Figure size 640x480 with 1 Axes>"
      ]
     },
     "metadata": {},
     "output_type": "display_data"
    }
   ],
   "source": [
    "\n",
    "# Create horizontal bar chart for the overall top job titles by frequency\n",
    "plt.barh(top_overall_title, top_overall_title_nums, align='center', color='lightgreen', edgecolor='green')\n",
    "\n",
    "# Set x-axis label, title, and ticks\n",
    "plt.xlabel('# of Postings', fontdict={'family':'monospace','color':'black','size':13})\n",
    "plt.title('Overall Top 15 Job Titles by Frequency', fontdict={'family':'monospace','color':'black','size':13}, loc='left')\n",
    "plt.xticks(range(int(min(top_overall_title_nums)), int(max(top_overall_title_nums))+1))\n",
    "x_major_locator = MultipleLocator(5)\n",
    "plt.gca().xaxis.set_major_locator(x_major_locator)\n",
    "\n",
    "# Set y-axis label and font\n",
    "plt.ylabel('Titles', fontdict={'family':'monospace','color':'black','size':9})\n",
    "plt.tick_params(axis='y', labelsize=9)\n",
    "for label in plt.gca().get_yticklabels():\n",
    "    label.set_fontproperties({'family':'monospace','size':9})\n",
    "plt.xlim(0,40)\n",
    "# Adjust y-axis ticks\n",
    "plt.tick_params(axis='y', which='major', direction='inout')\n",
    "\n",
    "# Adjust the figure size for best viewing\n",
    "# plt.figure(figsize=(8, 5))\n",
    "    \n",
    "# Save and display plot\n",
    "# plt.tight_layout()\n",
    "plt.savefig('/Users/laceymorgan/Desktop/data_job_analysis/visualizations/overall_top_titles.png',dpi=300, bbox_inches='tight')\n",
    "plt.show()\n",
    "\n",
    "\n"
   ]
  },
  {
   "cell_type": "code",
   "execution_count": 148,
   "metadata": {},
   "outputs": [],
   "source": [
    "# Getting the top overall listings sites by frequency\n",
    "\n",
    "top_overall_announce = clean_df.groupby(clean_df['via']).count()['job_description'].sort_values(ascending=False)[0:15]\n",
    "\n",
    "top_overall_announce_name = top_overall_announce.index.tolist()\n",
    "top_overall_announce_nums = top_overall_announce.values.tolist()"
   ]
  },
  {
   "cell_type": "code",
   "execution_count": 175,
   "metadata": {},
   "outputs": [
    {
     "data": {
      "image/png": "[encoded data removed]",
      "text/plain": [
       "<Figure size 640x480 with 1 Axes>"
      ]
     },
     "metadata": {},
     "output_type": "display_data"
    }
   ],
   "source": [
    "\n",
    "# Create horizontal bar chart for the overall top job titles by frequency\n",
    "plt.barh(top_overall_announce_name, top_overall_announce_nums, align='center', color='lightgreen', edgecolor='green')\n",
    "\n",
    "# Set x-axis label, title, and ticks\n",
    "plt.xlabel('# of Postings', fontdict={'family':'monospace','color':'black','size':13})\n",
    "plt.title('Overall Top 15 Posting Sites by Frequency', fontdict={'family':'monospace','color':'black','size':13},loc='left')\n",
    "plt.xticks(range(int(min(top_overall_announce_nums)), int(max(top_overall_announce_nums))+1))\n",
    "x_major_locator = MultipleLocator(5)\n",
    "plt.gca().xaxis.set_major_locator(x_major_locator)\n",
    "\n",
    "# Set y-axis label and font\n",
    "plt.ylabel('Posting Site', fontdict={'family':'monospace','color':'black','size':9})\n",
    "plt.tick_params(axis='y', labelsize=9)\n",
    "for label in plt.gca().get_yticklabels():\n",
    "    label.set_fontproperties({'family':'monospace','size':9})\n",
    "\n",
    "# Adjust y-axis ticks\n",
    "plt.tick_params(axis='y', which='major', direction='inout')\n",
    "\n",
    "# Adjust the figure size for best viewing\n",
    "# plt.figure(figsize=(8, 5))\n",
    "\n",
    "# Save and display plot\n",
    "# plt.tight_layout()\n",
    "plt.savefig('/Users/laceymorgan/Desktop/data_job_analysis/visualizations/overall_top_posting_site.png',dpi=300, bbox_inches='tight')\n",
    "plt.show()\n"
   ]
  },
  {
   "attachments": {},
   "cell_type": "markdown",
   "metadata": {},
   "source": [
    "## LinkedIn Analysis\n",
    "\n",
    "Looking at the total # of listings captured by the SERP API Google Job search, by far the most listings are found on LinkedIn so a deeper looking at those specific postings might yeild interesting insights"
   ]
  },
  {
   "cell_type": "code",
   "execution_count": 150,
   "metadata": {},
   "outputs": [
    {
     "name": "stdout",
     "output_type": "stream",
     "text": [
      "36 of the job postings captured were via LinkedIn. That is 15.0% of the jobs captured\n"
     ]
    }
   ],
   "source": [
    "link_df = clean_df.loc[clean_df['via'] == 'via LinkedIn']\n",
    "\n",
    "print(f'{len(link_df)} of the job postings captured were via LinkedIn. That is {round(len(link_df)/len(clean_df)*100,2)}% of the jobs captured')"
   ]
  },
  {
   "attachments": {},
   "cell_type": "markdown",
   "metadata": {},
   "source": [
    "## Cumulative NLTK Analysis\n",
    "Looking at the total results of the Natural Learning Toolkit methods applied to the dataset. "
   ]
  },
  {
   "cell_type": "code",
   "execution_count": 151,
   "metadata": {},
   "outputs": [
    {
     "name": "stdout",
     "output_type": "stream",
     "text": [
      "20.0% of listings matched as senior roles with a count of: 48\n"
     ]
    },
    {
     "name": "stderr",
     "output_type": "stream",
     "text": [
      "/var/folders/v0/rlrtvnc53g178pfy3_fzt2wm0000gp/T/ipykernel_25883/3303830921.py:5: UserWarning: This pattern is interpreted as a regular expression, and has match groups. To actually get the groups, use str.extract.\n",
      "  clean_df['senior_match'] = clean_df['job_title'].str.lower().str.contains(pattern)\n"
     ]
    }
   ],
   "source": [
    "# Define the pattern to match\n",
    "pattern = r'\\b(senior|sr|sr\\.|lead|manager|sr .)\\b'\n",
    "\n",
    "# Create a new column that returns a boolean indicating whether the my_keywords column matches the pattern\n",
    "clean_df['senior_match'] = clean_df['job_title'].str.lower().str.contains(pattern) \n",
    "\n",
    "# Examining how many listings are for these senior roles\n",
    "\n",
    "# Count the number of True values in the senior_match column\n",
    "num_senior_matches = clean_df['senior_match'].sum()\n",
    "\n",
    "# print(f'Number of senior roles in the dataset: {num_senior_matches}')\n",
    "print(f'{(round(num_senior_matches/len(clean_df),2)*100)}% of listings matched as senior roles with a count of: {num_senior_matches}')\n"
   ]
  },
  {
   "cell_type": "code",
   "execution_count": 152,
   "metadata": {},
   "outputs": [
    {
     "data": {
      "text/plain": [
       "count    240.000000\n",
       "mean       0.972655\n",
       "std        0.077689\n",
       "min        0.318200\n",
       "25%        0.982625\n",
       "50%        0.994300\n",
       "75%        0.997300\n",
       "max        0.999600\n",
       "Name: sentiment_score, dtype: float64"
      ]
     },
     "execution_count": 152,
     "metadata": {},
     "output_type": "execute_result"
    }
   ],
   "source": [
    "# Overview of the NLTK generated sentiment scores\n",
    "clean_df['sentiment_score'].describe()"
   ]
  },
  {
   "attachments": {},
   "cell_type": "markdown",
   "metadata": {},
   "source": [
    "## Google Listing Additional info "
   ]
  },
  {
   "cell_type": "code",
   "execution_count": 153,
   "metadata": {},
   "outputs": [
    {
     "name": "stdout",
     "output_type": "stream",
     "text": [
      "Between NLTK and the Google Jobs Litsing API I was able to find salary information in 49.17% of listings with a count of: 118.\n"
     ]
    }
   ],
   "source": [
    "# Looking at how many listings NLTK was able to pull salary info from\n",
    "# Filter the DataFrame for rows where salary is mentioned in either column and salary_source is not null\n",
    "salary_extract = clean_df.loc[(clean_df['salary_mention'] != 'salary not mentioned') | clean_df['salary_source'].notna()]\n",
    "\n",
    "# Calculate the percentage of listings where salary is mentioned\n",
    "salary_pct = len(salary_extract) / len(clean_df) * 100\n",
    "\n",
    "# Print the results\n",
    "print(f'Between NLTK and the Google Jobs Litsing API I was able to find salary information in {salary_pct:.2f}% of listings with a count of: {len(salary_extract)}.')\n"
   ]
  },
  {
   "cell_type": "code",
   "execution_count": 154,
   "metadata": {},
   "outputs": [
    {
     "data": {
      "text/plain": [
       "count    105.000000\n",
       "mean       3.783810\n",
       "std        0.492662\n",
       "min        2.000000\n",
       "25%        3.600000\n",
       "50%        3.800000\n",
       "75%        4.000000\n",
       "max        5.000000\n",
       "Name: rating, dtype: float64"
      ]
     },
     "execution_count": 154,
     "metadata": {},
     "output_type": "execute_result"
    }
   ],
   "source": [
    "# Overview of the rating information gathered from the google jobs listings endpoint\n",
    "\n",
    "clean_df['rating'].describe()"
   ]
  },
  {
   "cell_type": "code",
   "execution_count": 155,
   "metadata": {},
   "outputs": [
    {
     "data": {
      "image/png": "[encoded data removed]",
      "text/plain": [
       "<Figure size 640x480 with 1 Axes>"
      ]
     },
     "metadata": {},
     "output_type": "display_data"
    }
   ],
   "source": [
    "#plotting rating distribution\n",
    "clean_df['rating'].plot(kind='hist',title='Distribution of Company Ratings', bins=7)\n",
    "plt.xlabel('Rating')\n",
    "plt.ylabel('Frequency of Rating')\n",
    "plt.show()"
   ]
  },
  {
   "cell_type": "code",
   "execution_count": 156,
   "metadata": {},
   "outputs": [
    {
     "name": "stdout",
     "output_type": "stream",
     "text": [
      "Of the 240 company ratings gathered from the Google jobs listings endpoint, only 2 listings were posted by companies that had a perfect 5 rating.\n"
     ]
    }
   ],
   "source": [
    "# How many listings were present in the dataset with companies having a perfect 5 rating\n",
    "best_df = clean_df.loc[clean_df['rating'] ==5]\n",
    "\n",
    "print(f\"Of the {clean_df['job_description'].count()} company ratings gathered from the Google jobs listings endpoint, only {len(best_df)} listings were posted by companies that had a perfect 5 rating.\")"
   ]
  },
  {
   "cell_type": "code",
   "execution_count": 157,
   "metadata": {},
   "outputs": [
    {
     "data": {
      "text/html": [
       "<div>\n",
       "<style scoped>\n",
       "    .dataframe tbody tr th:only-of-type {\n",
       "        vertical-align: middle;\n",
       "    }\n",
       "\n",
       "    .dataframe tbody tr th {\n",
       "        vertical-align: top;\n",
       "    }\n",
       "\n",
       "    .dataframe thead th {\n",
       "        text-align: right;\n",
       "    }\n",
       "</style>\n",
       "<table border=\"1\" class=\"dataframe\">\n",
       "  <thead>\n",
       "    <tr style=\"text-align: right;\">\n",
       "      <th></th>\n",
       "      <th>job_title</th>\n",
       "      <th>company_name</th>\n",
       "      <th>job_description</th>\n",
       "      <th>via</th>\n",
       "      <th>job_id</th>\n",
       "      <th>posted_hours_ago</th>\n",
       "      <th>report_run_datetime</th>\n",
       "      <th>apply_options</th>\n",
       "      <th>rating</th>\n",
       "      <th>#_of_reviews</th>\n",
       "      <th>...</th>\n",
       "      <th>salary_source</th>\n",
       "      <th>my_keywords</th>\n",
       "      <th>job_description_summary</th>\n",
       "      <th>preprocessed_description</th>\n",
       "      <th>sentiment_score</th>\n",
       "      <th>salary_mention</th>\n",
       "      <th>named_entity_recognition</th>\n",
       "      <th>job_desc_len</th>\n",
       "      <th>job_sum_len</th>\n",
       "      <th>senior_match</th>\n",
       "    </tr>\n",
       "  </thead>\n",
       "  <tbody>\n",
       "    <tr>\n",
       "      <th>0</th>\n",
       "      <td>Data Analyst - Product and Acquisition focus</td>\n",
       "      <td>Wanderu</td>\n",
       "      <td>Wanderu is the leading ground travel search in...</td>\n",
       "      <td>via Openings At Wanderu</td>\n",
       "      <td>eyJqb2JfdGl0bGUiOiJEYXRhIEFuYWx5c3QgLSBQcm9kdW...</td>\n",
       "      <td>0</td>\n",
       "      <td>2023-03-08 13:07:51</td>\n",
       "      <td>https://wanderu.breezy.hr/p/0592386a7c2d-data-...</td>\n",
       "      <td>5.0</td>\n",
       "      <td>9.0</td>\n",
       "      <td>...</td>\n",
       "      <td>NaN</td>\n",
       "      <td>python sql</td>\n",
       "      <td>Wanderu is a company that values and promotes ...</td>\n",
       "      <td>wanderu lead ground travel search north americ...</td>\n",
       "      <td>0.9949</td>\n",
       "      <td>salary not mentioned</td>\n",
       "      <td>(S\\n  (GPE Wanderu/NNP)\\n  is/VBZ\\n  the/DT\\n ...</td>\n",
       "      <td>3663</td>\n",
       "      <td>838</td>\n",
       "      <td>False</td>\n",
       "    </tr>\n",
       "    <tr>\n",
       "      <th>1320</th>\n",
       "      <td>Data Analyst - Product and Acquisition focus</td>\n",
       "      <td>Wanderu</td>\n",
       "      <td>Wanderu is the leading ground travel search in...</td>\n",
       "      <td>via Openings At Wanderu</td>\n",
       "      <td>eyJqb2JfdGl0bGUiOiJEYXRhIEFuYWx5c3QgLSBQcm9kdW...</td>\n",
       "      <td>0</td>\n",
       "      <td>2023-03-10 10:16:11</td>\n",
       "      <td>https://wanderu.breezy.hr/p/0592386a7c2d-data-...</td>\n",
       "      <td>5.0</td>\n",
       "      <td>9.0</td>\n",
       "      <td>...</td>\n",
       "      <td>NaN</td>\n",
       "      <td>python sql</td>\n",
       "      <td>Wanderu is a company that values and promotes ...</td>\n",
       "      <td>wanderu lead ground travel search north americ...</td>\n",
       "      <td>0.9949</td>\n",
       "      <td>salary not mentioned</td>\n",
       "      <td>(S\\n  (GPE Wanderu/NNP)\\n  is/VBZ\\n  the/DT\\n ...</td>\n",
       "      <td>3663</td>\n",
       "      <td>838</td>\n",
       "      <td>False</td>\n",
       "    </tr>\n",
       "    <tr>\n",
       "      <th>1</th>\n",
       "      <td>Data Analyst</td>\n",
       "      <td>Ookla</td>\n",
       "      <td>We’re Ookla, the company behind Speedtest, Dow...</td>\n",
       "      <td>via Jobs By Workable</td>\n",
       "      <td>eyJqb2JfdGl0bGUiOiJEYXRhIEFuYWx5c3QiLCJodGlkb2...</td>\n",
       "      <td>0</td>\n",
       "      <td>2023-03-08 13:07:51</td>\n",
       "      <td>https://apply.workable.com/ookla/j/96DE997419/...</td>\n",
       "      <td>4.7</td>\n",
       "      <td>20.0</td>\n",
       "      <td>...</td>\n",
       "      <td>Indeed</td>\n",
       "      <td>python visualization sql</td>\n",
       "      <td>We’re Ookla, the company behind Speedtest, Dow...</td>\n",
       "      <td>ookla compani behind speedtest downdetector su...</td>\n",
       "      <td>0.9989</td>\n",
       "      <td>['range', 'reflected', 'is', 'an', 'estimate',...</td>\n",
       "      <td>(S\\n  We/PRP\\n  ’/VBP\\n  re/JJ\\n  Ookla/NNP\\n ...</td>\n",
       "      <td>4933</td>\n",
       "      <td>1108</td>\n",
       "      <td>False</td>\n",
       "    </tr>\n",
       "    <tr>\n",
       "      <th>2</th>\n",
       "      <td>Senior Data Analyst</td>\n",
       "      <td>Vouch</td>\n",
       "      <td>About Vouch:\\n\\nInsurance... sounds slow, old-...</td>\n",
       "      <td>via Y Combinator</td>\n",
       "      <td>eyJqb2JfdGl0bGUiOiJTZW5pb3IgRGF0YSBBbmFseXN0Ii...</td>\n",
       "      <td>0</td>\n",
       "      <td>2023-03-08 13:07:51</td>\n",
       "      <td>https://www.ycombinator.com/companies/vouch/jo...</td>\n",
       "      <td>4.6</td>\n",
       "      <td>28.0</td>\n",
       "      <td>...</td>\n",
       "      <td>NaN</td>\n",
       "      <td>python sql tableau</td>\n",
       "      <td>As an insurance company, data is at the core o...</td>\n",
       "      <td>vouch insur sound slow unexcit exact insur bro...</td>\n",
       "      <td>0.9892</td>\n",
       "      <td>['Range:', 'The', 'pay', 'range', 'for', 'this...</td>\n",
       "      <td>(S\\n  About/IN\\n  (PERSON Vouch/JJ)\\n  :/:\\n  ...</td>\n",
       "      <td>5440</td>\n",
       "      <td>1397</td>\n",
       "      <td>True</td>\n",
       "    </tr>\n",
       "    <tr>\n",
       "      <th>1321</th>\n",
       "      <td>Senior Data Analyst</td>\n",
       "      <td>Vouch</td>\n",
       "      <td>About Vouch:\\n\\nInsurance... sounds slow, old-...</td>\n",
       "      <td>via Y Combinator</td>\n",
       "      <td>eyJqb2JfdGl0bGUiOiJTZW5pb3IgRGF0YSBBbmFseXN0Ii...</td>\n",
       "      <td>0</td>\n",
       "      <td>2023-03-10 10:16:11</td>\n",
       "      <td>https://www.ycombinator.com/companies/vouch/jo...</td>\n",
       "      <td>4.6</td>\n",
       "      <td>28.0</td>\n",
       "      <td>...</td>\n",
       "      <td>NaN</td>\n",
       "      <td>python sql tableau</td>\n",
       "      <td>As an insurance company, data is at the core o...</td>\n",
       "      <td>vouch insur sound slow unexcit exact insur bro...</td>\n",
       "      <td>0.9892</td>\n",
       "      <td>['Range:', 'The', 'pay', 'range', 'for', 'this...</td>\n",
       "      <td>(S\\n  About/IN\\n  (PERSON Vouch/JJ)\\n  :/:\\n  ...</td>\n",
       "      <td>5440</td>\n",
       "      <td>1397</td>\n",
       "      <td>True</td>\n",
       "    </tr>\n",
       "    <tr>\n",
       "      <th>...</th>\n",
       "      <td>...</td>\n",
       "      <td>...</td>\n",
       "      <td>...</td>\n",
       "      <td>...</td>\n",
       "      <td>...</td>\n",
       "      <td>...</td>\n",
       "      <td>...</td>\n",
       "      <td>...</td>\n",
       "      <td>...</td>\n",
       "      <td>...</td>\n",
       "      <td>...</td>\n",
       "      <td>...</td>\n",
       "      <td>...</td>\n",
       "      <td>...</td>\n",
       "      <td>...</td>\n",
       "      <td>...</td>\n",
       "      <td>...</td>\n",
       "      <td>...</td>\n",
       "      <td>...</td>\n",
       "      <td>...</td>\n",
       "      <td>...</td>\n",
       "    </tr>\n",
       "    <tr>\n",
       "      <th>1433</th>\n",
       "      <td>Senior Data Analyst</td>\n",
       "      <td>OGC Global</td>\n",
       "      <td>OGC is a boutique research and consulting agen...</td>\n",
       "      <td>via OGC Global</td>\n",
       "      <td>eyJqb2JfdGl0bGUiOiJTZW5pb3IgRGF0YSBBbmFseXN0Ii...</td>\n",
       "      <td>408</td>\n",
       "      <td>2023-03-10 10:16:11</td>\n",
       "      <td>https://ogcglobal.recruitee.com/o/senior-data-...</td>\n",
       "      <td>NaN</td>\n",
       "      <td>NaN</td>\n",
       "      <td>...</td>\n",
       "      <td>Glassdoor</td>\n",
       "      <td>sql tableau</td>\n",
       "      <td>We work with some of the world’s largest organ...</td>\n",
       "      <td>ogc boutiqu research consult agenc special str...</td>\n",
       "      <td>0.9774</td>\n",
       "      <td>salary not mentioned</td>\n",
       "      <td>(S\\n  (ORGANIZATION OGC/NNP)\\n  is/VBZ\\n  a/DT...</td>\n",
       "      <td>2746</td>\n",
       "      <td>1209</td>\n",
       "      <td>True</td>\n",
       "    </tr>\n",
       "    <tr>\n",
       "      <th>1435</th>\n",
       "      <td>Data Analyst</td>\n",
       "      <td>Media Spark Online</td>\n",
       "      <td>Description\\n\\nWe are looking for a passionate...</td>\n",
       "      <td>via Comeet</td>\n",
       "      <td>eyJqb2JfdGl0bGUiOiJEYXRhIEFuYWx5c3QiLCJodGlkb2...</td>\n",
       "      <td>504</td>\n",
       "      <td>2023-03-10 10:16:11</td>\n",
       "      <td>https://www.comeet.com/jobs/mediaspark/98.00F/...</td>\n",
       "      <td>NaN</td>\n",
       "      <td>NaN</td>\n",
       "      <td>...</td>\n",
       "      <td>NaN</td>\n",
       "      <td>sql</td>\n",
       "      <td>Description We are looking for a passionate ce...</td>\n",
       "      <td>descript look passion certifi data analyst suc...</td>\n",
       "      <td>0.9897</td>\n",
       "      <td>salary not mentioned</td>\n",
       "      <td>(S\\n  Description/NN\\n  We/PRP\\n  are/VBP\\n  l...</td>\n",
       "      <td>4735</td>\n",
       "      <td>372</td>\n",
       "      <td>False</td>\n",
       "    </tr>\n",
       "    <tr>\n",
       "      <th>1436</th>\n",
       "      <td>Senior Data Analyst (Remote)</td>\n",
       "      <td>Flex</td>\n",
       "      <td>Flex is an early-stage, remote-first FinTech s...</td>\n",
       "      <td>via Built In NYC</td>\n",
       "      <td>eyJqb2JfdGl0bGUiOiJTZW5pb3IgRGF0YSBBbmFseXN0IC...</td>\n",
       "      <td>552</td>\n",
       "      <td>2023-03-10 10:16:11</td>\n",
       "      <td>https://www.builtinnyc.com/job/data/senior-dat...</td>\n",
       "      <td>NaN</td>\n",
       "      <td>NaN</td>\n",
       "      <td>...</td>\n",
       "      <td>Talent.com</td>\n",
       "      <td>sql tableau</td>\n",
       "      <td>The Analytics team at Flex is responsible for ...</td>\n",
       "      <td>flex fintech startup creat best rent payment e...</td>\n",
       "      <td>0.9971</td>\n",
       "      <td>salary not mentioned</td>\n",
       "      <td>(S\\n  (GPE Flex/NNP)\\n  is/VBZ\\n  an/DT\\n  ear...</td>\n",
       "      <td>3976</td>\n",
       "      <td>1712</td>\n",
       "      <td>True</td>\n",
       "    </tr>\n",
       "    <tr>\n",
       "      <th>1437</th>\n",
       "      <td>Data Analyst (Greater Denver Area, CO or Remote)</td>\n",
       "      <td>TurnCommerce</td>\n",
       "      <td>Who We Are\\nTurnCommerce is the parent company...</td>\n",
       "      <td>via Built In Colorado</td>\n",
       "      <td>eyJqb2JfdGl0bGUiOiJEYXRhIEFuYWx5c3QgKEdyZWF0ZX...</td>\n",
       "      <td>576</td>\n",
       "      <td>2023-03-10 10:16:11</td>\n",
       "      <td>https://www.builtincolorado.com/job/data/data-...</td>\n",
       "      <td>NaN</td>\n",
       "      <td>NaN</td>\n",
       "      <td>...</td>\n",
       "      <td>Indeed</td>\n",
       "      <td>visualization sql tableau</td>\n",
       "      <td>Who You Are We are seeking a highly motivated ...</td>\n",
       "      <td>turncommerc parent compani wide varieti web pr...</td>\n",
       "      <td>0.9959</td>\n",
       "      <td>salary not mentioned</td>\n",
       "      <td>(S\\n  Who/IN\\n  We/PRP\\n  Are/VBP\\n  (ORGANIZA...</td>\n",
       "      <td>3020</td>\n",
       "      <td>1634</td>\n",
       "      <td>False</td>\n",
       "    </tr>\n",
       "    <tr>\n",
       "      <th>1438</th>\n",
       "      <td>Operations Analyst</td>\n",
       "      <td>Nomad Credit</td>\n",
       "      <td>Nomad Credit - Operations Analyst\\n\\nNomad Cre...</td>\n",
       "      <td>via Glassdoor</td>\n",
       "      <td>eyJqb2JfdGl0bGUiOiJPcGVyYXRpb25zIEFuYWx5c3QiLC...</td>\n",
       "      <td>600</td>\n",
       "      <td>2023-03-10 10:15:50</td>\n",
       "      <td>https://www.glassdoor.com/job-listing/operatio...</td>\n",
       "      <td>NaN</td>\n",
       "      <td>NaN</td>\n",
       "      <td>...</td>\n",
       "      <td>NaN</td>\n",
       "      <td>python sql</td>\n",
       "      <td>Long-term, the platform will be a complete lif...</td>\n",
       "      <td>nomad credit oper analyst nomad credit global ...</td>\n",
       "      <td>0.9946</td>\n",
       "      <td>salary not mentioned</td>\n",
       "      <td>(S\\n  (PERSON Nomad/NNP)\\n  (ORGANIZATION Cred...</td>\n",
       "      <td>3285</td>\n",
       "      <td>1555</td>\n",
       "      <td>False</td>\n",
       "    </tr>\n",
       "  </tbody>\n",
       "</table>\n",
       "<p>240 rows × 24 columns</p>\n",
       "</div>"
      ],
      "text/plain": [
       "                                             job_title        company_name  \\\n",
       "0         Data Analyst - Product and Acquisition focus             Wanderu   \n",
       "1320      Data Analyst - Product and Acquisition focus             Wanderu   \n",
       "1                                         Data Analyst               Ookla   \n",
       "2                                  Senior Data Analyst               Vouch   \n",
       "1321                               Senior Data Analyst               Vouch   \n",
       "...                                                ...                 ...   \n",
       "1433                               Senior Data Analyst          OGC Global   \n",
       "1435                                      Data Analyst  Media Spark Online   \n",
       "1436                      Senior Data Analyst (Remote)                Flex   \n",
       "1437  Data Analyst (Greater Denver Area, CO or Remote)        TurnCommerce   \n",
       "1438                                Operations Analyst        Nomad Credit   \n",
       "\n",
       "                                        job_description  \\\n",
       "0     Wanderu is the leading ground travel search in...   \n",
       "1320  Wanderu is the leading ground travel search in...   \n",
       "1     We’re Ookla, the company behind Speedtest, Dow...   \n",
       "2     About Vouch:\\n\\nInsurance... sounds slow, old-...   \n",
       "1321  About Vouch:\\n\\nInsurance... sounds slow, old-...   \n",
       "...                                                 ...   \n",
       "1433  OGC is a boutique research and consulting agen...   \n",
       "1435  Description\\n\\nWe are looking for a passionate...   \n",
       "1436  Flex is an early-stage, remote-first FinTech s...   \n",
       "1437  Who We Are\\nTurnCommerce is the parent company...   \n",
       "1438  Nomad Credit - Operations Analyst\\n\\nNomad Cre...   \n",
       "\n",
       "                          via  \\\n",
       "0     via Openings At Wanderu   \n",
       "1320  via Openings At Wanderu   \n",
       "1        via Jobs By Workable   \n",
       "2            via Y Combinator   \n",
       "1321         via Y Combinator   \n",
       "...                       ...   \n",
       "1433           via OGC Global   \n",
       "1435               via Comeet   \n",
       "1436         via Built In NYC   \n",
       "1437    via Built In Colorado   \n",
       "1438            via Glassdoor   \n",
       "\n",
       "                                                 job_id  posted_hours_ago  \\\n",
       "0     eyJqb2JfdGl0bGUiOiJEYXRhIEFuYWx5c3QgLSBQcm9kdW...                 0   \n",
       "1320  eyJqb2JfdGl0bGUiOiJEYXRhIEFuYWx5c3QgLSBQcm9kdW...                 0   \n",
       "1     eyJqb2JfdGl0bGUiOiJEYXRhIEFuYWx5c3QiLCJodGlkb2...                 0   \n",
       "2     eyJqb2JfdGl0bGUiOiJTZW5pb3IgRGF0YSBBbmFseXN0Ii...                 0   \n",
       "1321  eyJqb2JfdGl0bGUiOiJTZW5pb3IgRGF0YSBBbmFseXN0Ii...                 0   \n",
       "...                                                 ...               ...   \n",
       "1433  eyJqb2JfdGl0bGUiOiJTZW5pb3IgRGF0YSBBbmFseXN0Ii...               408   \n",
       "1435  eyJqb2JfdGl0bGUiOiJEYXRhIEFuYWx5c3QiLCJodGlkb2...               504   \n",
       "1436  eyJqb2JfdGl0bGUiOiJTZW5pb3IgRGF0YSBBbmFseXN0IC...               552   \n",
       "1437  eyJqb2JfdGl0bGUiOiJEYXRhIEFuYWx5c3QgKEdyZWF0ZX...               576   \n",
       "1438  eyJqb2JfdGl0bGUiOiJPcGVyYXRpb25zIEFuYWx5c3QiLC...               600   \n",
       "\n",
       "      report_run_datetime                                      apply_options  \\\n",
       "0     2023-03-08 13:07:51  https://wanderu.breezy.hr/p/0592386a7c2d-data-...   \n",
       "1320  2023-03-10 10:16:11  https://wanderu.breezy.hr/p/0592386a7c2d-data-...   \n",
       "1     2023-03-08 13:07:51  https://apply.workable.com/ookla/j/96DE997419/...   \n",
       "2     2023-03-08 13:07:51  https://www.ycombinator.com/companies/vouch/jo...   \n",
       "1321  2023-03-10 10:16:11  https://www.ycombinator.com/companies/vouch/jo...   \n",
       "...                   ...                                                ...   \n",
       "1433  2023-03-10 10:16:11  https://ogcglobal.recruitee.com/o/senior-data-...   \n",
       "1435  2023-03-10 10:16:11  https://www.comeet.com/jobs/mediaspark/98.00F/...   \n",
       "1436  2023-03-10 10:16:11  https://www.builtinnyc.com/job/data/senior-dat...   \n",
       "1437  2023-03-10 10:16:11  https://www.builtincolorado.com/job/data/data-...   \n",
       "1438  2023-03-10 10:15:50  https://www.glassdoor.com/job-listing/operatio...   \n",
       "\n",
       "      rating  #_of_reviews  ... salary_source                my_keywords  \\\n",
       "0        5.0           9.0  ...           NaN                 python sql   \n",
       "1320     5.0           9.0  ...           NaN                 python sql   \n",
       "1        4.7          20.0  ...        Indeed   python visualization sql   \n",
       "2        4.6          28.0  ...           NaN         python sql tableau   \n",
       "1321     4.6          28.0  ...           NaN         python sql tableau   \n",
       "...      ...           ...  ...           ...                        ...   \n",
       "1433     NaN           NaN  ...     Glassdoor                sql tableau   \n",
       "1435     NaN           NaN  ...           NaN                        sql   \n",
       "1436     NaN           NaN  ...    Talent.com                sql tableau   \n",
       "1437     NaN           NaN  ...        Indeed  visualization sql tableau   \n",
       "1438     NaN           NaN  ...           NaN                 python sql   \n",
       "\n",
       "                                job_description_summary  \\\n",
       "0     Wanderu is a company that values and promotes ...   \n",
       "1320  Wanderu is a company that values and promotes ...   \n",
       "1     We’re Ookla, the company behind Speedtest, Dow...   \n",
       "2     As an insurance company, data is at the core o...   \n",
       "1321  As an insurance company, data is at the core o...   \n",
       "...                                                 ...   \n",
       "1433  We work with some of the world’s largest organ...   \n",
       "1435  Description We are looking for a passionate ce...   \n",
       "1436  The Analytics team at Flex is responsible for ...   \n",
       "1437  Who You Are We are seeking a highly motivated ...   \n",
       "1438  Long-term, the platform will be a complete lif...   \n",
       "\n",
       "                               preprocessed_description sentiment_score  \\\n",
       "0     wanderu lead ground travel search north americ...          0.9949   \n",
       "1320  wanderu lead ground travel search north americ...          0.9949   \n",
       "1     ookla compani behind speedtest downdetector su...          0.9989   \n",
       "2     vouch insur sound slow unexcit exact insur bro...          0.9892   \n",
       "1321  vouch insur sound slow unexcit exact insur bro...          0.9892   \n",
       "...                                                 ...             ...   \n",
       "1433  ogc boutiqu research consult agenc special str...          0.9774   \n",
       "1435  descript look passion certifi data analyst suc...          0.9897   \n",
       "1436  flex fintech startup creat best rent payment e...          0.9971   \n",
       "1437  turncommerc parent compani wide varieti web pr...          0.9959   \n",
       "1438  nomad credit oper analyst nomad credit global ...          0.9946   \n",
       "\n",
       "                                         salary_mention  \\\n",
       "0                                  salary not mentioned   \n",
       "1320                               salary not mentioned   \n",
       "1     ['range', 'reflected', 'is', 'an', 'estimate',...   \n",
       "2     ['Range:', 'The', 'pay', 'range', 'for', 'this...   \n",
       "1321  ['Range:', 'The', 'pay', 'range', 'for', 'this...   \n",
       "...                                                 ...   \n",
       "1433                               salary not mentioned   \n",
       "1435                               salary not mentioned   \n",
       "1436                               salary not mentioned   \n",
       "1437                               salary not mentioned   \n",
       "1438                               salary not mentioned   \n",
       "\n",
       "                               named_entity_recognition job_desc_len  \\\n",
       "0     (S\\n  (GPE Wanderu/NNP)\\n  is/VBZ\\n  the/DT\\n ...         3663   \n",
       "1320  (S\\n  (GPE Wanderu/NNP)\\n  is/VBZ\\n  the/DT\\n ...         3663   \n",
       "1     (S\\n  We/PRP\\n  ’/VBP\\n  re/JJ\\n  Ookla/NNP\\n ...         4933   \n",
       "2     (S\\n  About/IN\\n  (PERSON Vouch/JJ)\\n  :/:\\n  ...         5440   \n",
       "1321  (S\\n  About/IN\\n  (PERSON Vouch/JJ)\\n  :/:\\n  ...         5440   \n",
       "...                                                 ...          ...   \n",
       "1433  (S\\n  (ORGANIZATION OGC/NNP)\\n  is/VBZ\\n  a/DT...         2746   \n",
       "1435  (S\\n  Description/NN\\n  We/PRP\\n  are/VBP\\n  l...         4735   \n",
       "1436  (S\\n  (GPE Flex/NNP)\\n  is/VBZ\\n  an/DT\\n  ear...         3976   \n",
       "1437  (S\\n  Who/IN\\n  We/PRP\\n  Are/VBP\\n  (ORGANIZA...         3020   \n",
       "1438  (S\\n  (PERSON Nomad/NNP)\\n  (ORGANIZATION Cred...         3285   \n",
       "\n",
       "      job_sum_len senior_match  \n",
       "0             838        False  \n",
       "1320          838        False  \n",
       "1            1108        False  \n",
       "2            1397         True  \n",
       "1321         1397         True  \n",
       "...           ...          ...  \n",
       "1433         1209         True  \n",
       "1435          372        False  \n",
       "1436         1712         True  \n",
       "1437         1634        False  \n",
       "1438         1555        False  \n",
       "\n",
       "[240 rows x 24 columns]"
      ]
     },
     "execution_count": 157,
     "metadata": {},
     "output_type": "execute_result"
    }
   ],
   "source": [
    "clean_df.sort_values('rating', ascending= False)"
   ]
  },
  {
   "cell_type": "code",
   "execution_count": 158,
   "metadata": {},
   "outputs": [
    {
     "data": {
      "text/html": [
       "<div>\n",
       "<style scoped>\n",
       "    .dataframe tbody tr th:only-of-type {\n",
       "        vertical-align: middle;\n",
       "    }\n",
       "\n",
       "    .dataframe tbody tr th {\n",
       "        vertical-align: top;\n",
       "    }\n",
       "\n",
       "    .dataframe thead th {\n",
       "        text-align: right;\n",
       "    }\n",
       "</style>\n",
       "<table border=\"1\" class=\"dataframe\">\n",
       "  <thead>\n",
       "    <tr style=\"text-align: right;\">\n",
       "      <th></th>\n",
       "      <th>job_title</th>\n",
       "      <th>company_name</th>\n",
       "      <th>job_description</th>\n",
       "      <th>via</th>\n",
       "      <th>job_id</th>\n",
       "      <th>posted_hours_ago</th>\n",
       "      <th>report_run_datetime</th>\n",
       "      <th>apply_options</th>\n",
       "      <th>rating</th>\n",
       "      <th>#_of_reviews</th>\n",
       "      <th>...</th>\n",
       "      <th>salary_source</th>\n",
       "      <th>my_keywords</th>\n",
       "      <th>job_description_summary</th>\n",
       "      <th>preprocessed_description</th>\n",
       "      <th>sentiment_score</th>\n",
       "      <th>salary_mention</th>\n",
       "      <th>named_entity_recognition</th>\n",
       "      <th>job_desc_len</th>\n",
       "      <th>job_sum_len</th>\n",
       "      <th>senior_match</th>\n",
       "    </tr>\n",
       "  </thead>\n",
       "  <tbody>\n",
       "    <tr>\n",
       "      <th>0</th>\n",
       "      <td>Data Analyst - Product and Acquisition focus</td>\n",
       "      <td>Wanderu</td>\n",
       "      <td>Wanderu is the leading ground travel search in...</td>\n",
       "      <td>via Openings At Wanderu</td>\n",
       "      <td>eyJqb2JfdGl0bGUiOiJEYXRhIEFuYWx5c3QgLSBQcm9kdW...</td>\n",
       "      <td>0</td>\n",
       "      <td>2023-03-08 13:07:51</td>\n",
       "      <td>https://wanderu.breezy.hr/p/0592386a7c2d-data-...</td>\n",
       "      <td>5.0</td>\n",
       "      <td>9.0</td>\n",
       "      <td>...</td>\n",
       "      <td>NaN</td>\n",
       "      <td>python sql</td>\n",
       "      <td>Wanderu is a company that values and promotes ...</td>\n",
       "      <td>wanderu lead ground travel search north americ...</td>\n",
       "      <td>0.9949</td>\n",
       "      <td>salary not mentioned</td>\n",
       "      <td>(S\\n  (GPE Wanderu/NNP)\\n  is/VBZ\\n  the/DT\\n ...</td>\n",
       "      <td>3663</td>\n",
       "      <td>838</td>\n",
       "      <td>False</td>\n",
       "    </tr>\n",
       "    <tr>\n",
       "      <th>1320</th>\n",
       "      <td>Data Analyst - Product and Acquisition focus</td>\n",
       "      <td>Wanderu</td>\n",
       "      <td>Wanderu is the leading ground travel search in...</td>\n",
       "      <td>via Openings At Wanderu</td>\n",
       "      <td>eyJqb2JfdGl0bGUiOiJEYXRhIEFuYWx5c3QgLSBQcm9kdW...</td>\n",
       "      <td>0</td>\n",
       "      <td>2023-03-10 10:16:11</td>\n",
       "      <td>https://wanderu.breezy.hr/p/0592386a7c2d-data-...</td>\n",
       "      <td>5.0</td>\n",
       "      <td>9.0</td>\n",
       "      <td>...</td>\n",
       "      <td>NaN</td>\n",
       "      <td>python sql</td>\n",
       "      <td>Wanderu is a company that values and promotes ...</td>\n",
       "      <td>wanderu lead ground travel search north americ...</td>\n",
       "      <td>0.9949</td>\n",
       "      <td>salary not mentioned</td>\n",
       "      <td>(S\\n  (GPE Wanderu/NNP)\\n  is/VBZ\\n  the/DT\\n ...</td>\n",
       "      <td>3663</td>\n",
       "      <td>838</td>\n",
       "      <td>False</td>\n",
       "    </tr>\n",
       "  </tbody>\n",
       "</table>\n",
       "<p>2 rows × 24 columns</p>\n",
       "</div>"
      ],
      "text/plain": [
       "                                         job_title company_name  \\\n",
       "0     Data Analyst - Product and Acquisition focus      Wanderu   \n",
       "1320  Data Analyst - Product and Acquisition focus      Wanderu   \n",
       "\n",
       "                                        job_description  \\\n",
       "0     Wanderu is the leading ground travel search in...   \n",
       "1320  Wanderu is the leading ground travel search in...   \n",
       "\n",
       "                          via  \\\n",
       "0     via Openings At Wanderu   \n",
       "1320  via Openings At Wanderu   \n",
       "\n",
       "                                                 job_id  posted_hours_ago  \\\n",
       "0     eyJqb2JfdGl0bGUiOiJEYXRhIEFuYWx5c3QgLSBQcm9kdW...                 0   \n",
       "1320  eyJqb2JfdGl0bGUiOiJEYXRhIEFuYWx5c3QgLSBQcm9kdW...                 0   \n",
       "\n",
       "      report_run_datetime                                      apply_options  \\\n",
       "0     2023-03-08 13:07:51  https://wanderu.breezy.hr/p/0592386a7c2d-data-...   \n",
       "1320  2023-03-10 10:16:11  https://wanderu.breezy.hr/p/0592386a7c2d-data-...   \n",
       "\n",
       "      rating  #_of_reviews  ... salary_source my_keywords  \\\n",
       "0        5.0           9.0  ...           NaN  python sql   \n",
       "1320     5.0           9.0  ...           NaN  python sql   \n",
       "\n",
       "                                job_description_summary  \\\n",
       "0     Wanderu is a company that values and promotes ...   \n",
       "1320  Wanderu is a company that values and promotes ...   \n",
       "\n",
       "                               preprocessed_description sentiment_score  \\\n",
       "0     wanderu lead ground travel search north americ...          0.9949   \n",
       "1320  wanderu lead ground travel search north americ...          0.9949   \n",
       "\n",
       "            salary_mention                           named_entity_recognition  \\\n",
       "0     salary not mentioned  (S\\n  (GPE Wanderu/NNP)\\n  is/VBZ\\n  the/DT\\n ...   \n",
       "1320  salary not mentioned  (S\\n  (GPE Wanderu/NNP)\\n  is/VBZ\\n  the/DT\\n ...   \n",
       "\n",
       "     job_desc_len  job_sum_len senior_match  \n",
       "0            3663          838        False  \n",
       "1320         3663          838        False  \n",
       "\n",
       "[2 rows x 24 columns]"
      ]
     },
     "execution_count": 158,
     "metadata": {},
     "output_type": "execute_result"
    }
   ],
   "source": [
    "best_df"
   ]
  },
  {
   "cell_type": "code",
   "execution_count": 159,
   "metadata": {},
   "outputs": [
    {
     "data": {
      "text/plain": [
       "Index(['job_title', 'company_name', 'job_description', 'via', 'job_id',\n",
       "       'posted_hours_ago', 'report_run_datetime', 'apply_options', 'rating',\n",
       "       '#_of_reviews', 'rating_source', 'salary_based_on', 'salary_from',\n",
       "       'salary_to', 'salary_source', 'my_keywords', 'job_description_summary',\n",
       "       'preprocessed_description', 'sentiment_score', 'salary_mention',\n",
       "       'named_entity_recognition', 'job_desc_len', 'job_sum_len',\n",
       "       'senior_match'],\n",
       "      dtype='object')"
      ]
     },
     "execution_count": 159,
     "metadata": {},
     "output_type": "execute_result"
    }
   ],
   "source": [
    "clean_df.columns"
   ]
  }
 ],
 "metadata": {
  "kernelspec": {
   "display_name": "PythonData",
   "language": "python",
   "name": "pythondata"
  },
  "language_info": {
   "codemirror_mode": {
    "name": "ipython",
    "version": 3
   },
   "file_extension": ".py",
   "mimetype": "text/x-python",
   "name": "python",
   "nbconvert_exporter": "python",
   "pygments_lexer": "ipython3",
   "version": "3.9.13"
  },
  "orig_nbformat": 4,
  "vscode": {
   "interpreter": {
    "hash": "31f2aee4e71d21fbe5cf8b01ff0e069b9275f58929596ceb00d14d90e3e16cd6"
   }
  }
 },
 "nbformat": 4,
 "nbformat_minor": 2
}
